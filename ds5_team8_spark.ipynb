{
  "nbformat": 4,
  "nbformat_minor": 0,
  "metadata": {
    "colab": {
      "name": "ds5_team8_spark.ipynb\"",
      "provenance": [],
      "collapsed_sections": []
    },
    "kernelspec": {
      "display_name": "Python 3",
      "name": "python3"
    },
    "language_info": {
      "name": "python"
    }
  },
  "cells": [
    {
      "cell_type": "markdown",
      "metadata": {
        "id": "nxu75ofdriJ7"
      },
      "source": [
        "инструкция:\n",
        "     https://www.kaggle.com/general/74235"
      ]
    },
    {
      "cell_type": "markdown",
      "metadata": {
        "id": "wzKyoDocGCgk"
      },
      "source": [
        "# загрузка данных"
      ]
    },
    {
      "cell_type": "code",
      "metadata": {
        "colab": {
          "resources": {
            "http://localhost:8080/nbextensions/google.colab/files.js": {
              "data": "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",
              "headers": [
                [
                  "content-type",
                  "application/javascript"
                ]
              ],
              "ok": true,
              "status": 200,
              "status_text": "OK"
            }
          },
          "base_uri": "https://localhost:8080/",
          "height": 315
        },
        "id": "YCRV-zkXlo9B",
        "outputId": "9826e20a-e847-4d0b-8c41-8fb382e1e1c0"
      },
      "source": [
        "! pip install -q kaggle # установил библиотеку для Кэггл\n",
        "from google.colab import files #импорт служебной штуки для загрузки файлов в колаб\n",
        "files.upload() # собственно аплоад самого файла токена, создается на кэглл в аккаунте и скачивается\n",
        "! mkdir ~/.kaggle # по хорошему надо было создать директорию, но ругается т.к. такая уже есть\n",
        "! cp kaggle.json ~/.kaggle/ # копирование файла токена в нужную директорию\n",
        "! chmod 600 ~/.kaggle/kaggle.json # смена прав доступа, 600 только владелец файла может читать/записывать, взято из инструкции с Кэглла\n",
        "! kaggle competitions download -c new-york-city-taxi-fare-prediction"
      ],
      "execution_count": null,
      "outputs": [
        {
          "data": {
            "text/html": [
              "\n",
              "     <input type=\"file\" id=\"files-1691b160-4392-4011-a733-9baa076cd0a7\" name=\"files[]\" multiple disabled\n",
              "        style=\"border:none\" />\n",
              "     <output id=\"result-1691b160-4392-4011-a733-9baa076cd0a7\">\n",
              "      Upload widget is only available when the cell has been executed in the\n",
              "      current browser session. Please rerun this cell to enable.\n",
              "      </output>\n",
              "      <script src=\"/nbextensions/google.colab/files.js\"></script> "
            ],
            "text/plain": [
              "<IPython.core.display.HTML object>"
            ]
          },
          "metadata": {},
          "output_type": "display_data"
        },
        {
          "name": "stdout",
          "output_type": "stream",
          "text": [
            "Saving kaggle.json to kaggle.json\n",
            "Warning: Looks like you're using an outdated API Version, please consider updating (server 1.5.12 / client 1.5.4)\n",
            "Downloading train.csv.zip to /content\n",
            " 99% 1.55G/1.56G [00:25<00:00, 68.7MB/s]\n",
            "100% 1.56G/1.56G [00:25<00:00, 64.7MB/s]\n",
            "Downloading test.csv to /content\n",
            "  0% 0.00/960k [00:00<?, ?B/s]\n",
            "100% 960k/960k [00:00<00:00, 129MB/s]\n",
            "Downloading sample_submission.csv to /content\n",
            "  0% 0.00/335k [00:00<?, ?B/s]\n",
            "100% 335k/335k [00:00<00:00, 108MB/s]\n",
            "Downloading GCP-Coupons-Instructions.rtf to /content\n",
            "  0% 0.00/486 [00:00<?, ?B/s]\n",
            "100% 486/486 [00:00<00:00, 501kB/s]\n"
          ]
        }
      ]
    },
    {
      "cell_type": "code",
      "metadata": {
        "colab": {
          "base_uri": "https://localhost:8080/"
        },
        "id": "PDESvzUwsSSv",
        "outputId": "f77fbbfc-13d4-4b30-8749-d05d3b950d9a"
      },
      "source": [
        "! unzip '/content/train.csv.zip'"
      ],
      "execution_count": null,
      "outputs": [
        {
          "name": "stdout",
          "output_type": "stream",
          "text": [
            "Archive:  /content/train.csv.zip\n",
            "  inflating: train.csv               \n"
          ]
        }
      ]
    },
    {
      "cell_type": "markdown",
      "metadata": {
        "id": "gExPwvy_GIPs"
      },
      "source": [
        "#установка и импорт библиотек"
      ]
    },
    {
      "cell_type": "code",
      "metadata": {
        "colab": {
          "base_uri": "https://localhost:8080/"
        },
        "id": "4GF0l7bCmULM",
        "outputId": "e22a4627-c83e-4841-c50a-8546238f5a84"
      },
      "source": [
        "from google.colab import drive\n",
        "drive.mount('/content/drive')"
      ],
      "execution_count": 1,
      "outputs": [
        {
          "output_type": "stream",
          "name": "stdout",
          "text": [
            "Mounted at /content/drive\n"
          ]
        }
      ]
    },
    {
      "cell_type": "code",
      "metadata": {
        "id": "_5yWtGDkpAXE",
        "colab": {
          "base_uri": "https://localhost:8080/"
        },
        "outputId": "949b0d72-fc63-45f5-bba0-33799ce5c9a2"
      },
      "source": [
        "! pip install -q 'fsspec>=0.3.3'"
      ],
      "execution_count": 2,
      "outputs": [
        {
          "output_type": "stream",
          "name": "stdout",
          "text": [
            "\u001b[?25l\r\u001b[K     |██▌                             | 10 kB 22.9 MB/s eta 0:00:01\r\u001b[K     |█████                           | 20 kB 9.8 MB/s eta 0:00:01\r\u001b[K     |███████▍                        | 30 kB 8.9 MB/s eta 0:00:01\r\u001b[K     |██████████                      | 40 kB 8.0 MB/s eta 0:00:01\r\u001b[K     |████████████▍                   | 51 kB 4.8 MB/s eta 0:00:01\r\u001b[K     |██████████████▉                 | 61 kB 5.3 MB/s eta 0:00:01\r\u001b[K     |█████████████████▎              | 71 kB 5.3 MB/s eta 0:00:01\r\u001b[K     |███████████████████▉            | 81 kB 6.0 MB/s eta 0:00:01\r\u001b[K     |██████████████████████▎         | 92 kB 4.6 MB/s eta 0:00:01\r\u001b[K     |████████████████████████▊       | 102 kB 4.9 MB/s eta 0:00:01\r\u001b[K     |███████████████████████████▏    | 112 kB 4.9 MB/s eta 0:00:01\r\u001b[K     |█████████████████████████████▊  | 122 kB 4.9 MB/s eta 0:00:01\r\u001b[K     |████████████████████████████████| 132 kB 4.9 MB/s \n",
            "\u001b[?25h"
          ]
        }
      ]
    },
    {
      "cell_type": "code",
      "metadata": {
        "id": "f-X-_-7iPniZ",
        "colab": {
          "base_uri": "https://localhost:8080/"
        },
        "outputId": "f45863fd-1864-4c69-8366-680209d58f78"
      },
      "source": [
        "! pip install -q pyspark"
      ],
      "execution_count": 3,
      "outputs": [
        {
          "output_type": "stream",
          "name": "stdout",
          "text": [
            "\u001b[K     |████████████████████████████████| 281.3 MB 40 kB/s \n",
            "\u001b[K     |████████████████████████████████| 198 kB 65.7 MB/s \n",
            "\u001b[?25h  Building wheel for pyspark (setup.py) ... \u001b[?25l\u001b[?25hdone\n"
          ]
        }
      ]
    },
    {
      "cell_type": "code",
      "metadata": {
        "id": "a6eNHH7nPRMf"
      },
      "source": [
        "import pyspark\n",
        "import pyspark.sql.functions as F\n",
        "#JVM типы данных\n",
        "from pyspark.sql.types import DoubleType, \\\n",
        "IntegerType, \\\n",
        "StructType, \\\n",
        " StructField, \\\n",
        "  StringType, \\\n",
        "   TimestampType, \\\n",
        "    LongType, \\\n",
        "    FloatType, \\\n",
        "    ShortType, \\\n",
        "    ByteType\n",
        "#JVM типы данных\n",
        "from pyspark import SparkContext, SparkConf\n",
        "from pyspark.sql import SparkSession\n",
        "\n",
        "from pyspark.ml.feature import VectorAssembler, VectorIndexer\n",
        "from pyspark.ml.tuning import CrossValidator, ParamGridBuilder\n",
        "from pyspark.ml import Pipeline\n",
        "\n",
        "from pyspark.ml.regression import DecisionTreeRegressor\n",
        "from pyspark.ml.evaluation import RegressionEvaluator\n",
        "from pyspark.ml.regression import GBTRegressor\n",
        "\n",
        "import numpy as np\n",
        "import pandas as pd\n",
        "import dask.dataframe as dd"
      ],
      "execution_count": 1,
      "outputs": []
    },
    {
      "cell_type": "code",
      "metadata": {
        "id": "HXKp2utEcG9Y"
      },
      "source": [
        "import matplotlib.pyplot as plt\n",
        "import seaborn as sns"
      ],
      "execution_count": 2,
      "outputs": []
    },
    {
      "cell_type": "code",
      "metadata": {
        "id": "m7ksiCCT5H7t"
      },
      "source": [
        "from shapely import geometry\n",
        "import pickle"
      ],
      "execution_count": 3,
      "outputs": []
    },
    {
      "cell_type": "markdown",
      "metadata": {
        "id": "cZkxaul7Gbo-"
      },
      "source": [
        "#spark сессия с имененм прилажухи, потом объясню для чего оно"
      ]
    },
    {
      "cell_type": "code",
      "metadata": {
        "id": "pRmp7tBVhesY"
      },
      "source": [
        "spark = SparkSession.builder.master(\n",
        "    \"local[*]\"\n",
        "    ).appName(\n",
        "    \"DS5_8\"\n",
        "    ).config(\n",
        "        \"spark.sql.execution.arrow.pyspark.enabled\", \n",
        "        \"true\").getOrCreate()"
      ],
      "execution_count": 4,
      "outputs": []
    },
    {
      "cell_type": "code",
      "metadata": {
        "colab": {
          "base_uri": "https://localhost:8080/",
          "height": 222
        },
        "id": "BTUU3OnMPRX5",
        "outputId": "7ec16297-3972-4948-c693-535ffb4ecb7b"
      },
      "source": [
        "spark # spark is alive"
      ],
      "execution_count": 5,
      "outputs": [
        {
          "output_type": "execute_result",
          "data": {
            "text/html": [
              "\n",
              "            <div>\n",
              "                <p><b>SparkSession - in-memory</b></p>\n",
              "                \n",
              "        <div>\n",
              "            <p><b>SparkContext</b></p>\n",
              "\n",
              "            <p><a href=\"http://86c360034201:4040\">Spark UI</a></p>\n",
              "\n",
              "            <dl>\n",
              "              <dt>Version</dt>\n",
              "                <dd><code>v3.2.0</code></dd>\n",
              "              <dt>Master</dt>\n",
              "                <dd><code>local[*]</code></dd>\n",
              "              <dt>AppName</dt>\n",
              "                <dd><code>DS5_8</code></dd>\n",
              "            </dl>\n",
              "        </div>\n",
              "        \n",
              "            </div>\n",
              "        "
            ],
            "text/plain": [
              "<pyspark.sql.session.SparkSession at 0x7fc9e2837d90>"
            ]
          },
          "metadata": {},
          "execution_count": 5
        }
      ]
    },
    {
      "cell_type": "code",
      "metadata": {
        "id": "kmlkCCxQp5Cj"
      },
      "source": [
        "df = dd.read_csv('train.csv') # быстренько читаем в даск"
      ],
      "execution_count": null,
      "outputs": []
    },
    {
      "cell_type": "code",
      "metadata": {
        "id": "TdDf_GUNkM-6"
      },
      "source": [
        "# new_train = dd.read_parquet('/content/drive/MyDrive/@/train_1.parquet')\n",
        "\n",
        "\n",
        "# train_500 = new_train.sample(frac=0.01)\n",
        "# df_500K = train_500.compute()\n",
        "# df_500K.to_csv('new_train_500.csv', index=False)\n",
        "# train_500.to_parquet('/content/drive/MyDrive/@/train_500.parquet')"
      ],
      "execution_count": null,
      "outputs": []
    },
    {
      "cell_type": "code",
      "metadata": {
        "id": "-i3lsoWtc4Z9"
      },
      "source": [
        "# schema = StructType([StructField(\"key\",StringType(),True), \n",
        "#                      StructField(\"fare_amount\",DoubleType(),True), \n",
        "#                      StructField(\"pickup_datetime\",StringType(),True), \n",
        "#                      StructField(\"pickup_longitude\", DoubleType(), True), \n",
        "#                      StructField(\"pickup_latitude\", DoubleType(), True), \n",
        "#                      StructField(\"dropoff_longitude\", DoubleType(), True), \n",
        "#                      StructField(\"dropoff_latitude\", DoubleType(), True), \n",
        "#                      StructField(\"passenger_count\", LongType(), True)\n",
        "#                      ])"
      ],
      "execution_count": null,
      "outputs": []
    },
    {
      "cell_type": "code",
      "metadata": {
        "id": "3X_WX1CZr0pe"
      },
      "source": [
        "df.to_parquet('/content/drive/MyDrive/@/train.parquet') # быстренько пишемся в паркет, работает паркет быстрее чем на прямую из csv"
      ],
      "execution_count": null,
      "outputs": []
    },
    {
      "cell_type": "code",
      "metadata": {
        "id": "l7Bg6CwXtg4f"
      },
      "source": [
        "# schema_small = StructType([StructField(\"key\",StringType(),True), \n",
        "#                      StructField(\"fare_amount\",FloatType(),True), \n",
        "#                      StructField(\"pickup_datetime\",StringType(),True), \n",
        "#                      StructField(\"pickup_longitude\", FloatType(), True), \n",
        "#                      StructField(\"pickup_latitude\", FloatType(), True), \n",
        "#                      StructField(\"dropoff_longitude\", FloatType(), True), \n",
        "#                      StructField(\"dropoff_latitude\", FloatType(), True), \n",
        "#                      StructField(\"passenger_count\", ByteType(), True)\n",
        "#                      ])"
      ],
      "execution_count": null,
      "outputs": []
    },
    {
      "cell_type": "code",
      "metadata": {
        "id": "1qlJUFHQfoE_"
      },
      "source": [
        "# data = spark.read.format(\"csv\").option(\"header\", True).schema(schema_small).load(\"train.csv\")"
      ],
      "execution_count": null,
      "outputs": []
    },
    {
      "cell_type": "code",
      "metadata": {
        "id": "nPDzOMPY-9wL"
      },
      "source": [
        "# ! rm -rf /content/drive/MyDrive/@/new_data.parquet"
      ],
      "execution_count": null,
      "outputs": []
    },
    {
      "cell_type": "markdown",
      "metadata": {
        "id": "1zO0cg7UKDIs"
      },
      "source": [
        "# читаем"
      ]
    },
    {
      "cell_type": "code",
      "metadata": {
        "id": "uAdeCdlarki9"
      },
      "source": [
        "data = spark.read.parquet('/content/drive/MyDrive/@/train.parquet') #датасет в датафрейм"
      ],
      "execution_count": null,
      "outputs": []
    },
    {
      "cell_type": "code",
      "metadata": {
        "id": "WAUQled0K3tM"
      },
      "source": [
        "data = data.drop('index') # нафиг индекс"
      ],
      "execution_count": null,
      "outputs": []
    },
    {
      "cell_type": "code",
      "metadata": {
        "colab": {
          "base_uri": "https://localhost:8080/"
        },
        "id": "IzAx7vSTgPZd",
        "outputId": "e6927fb6-af7d-4001-fefa-54b32b5482f3"
      },
      "source": [
        "data.printSchema() # схема типов данных"
      ],
      "execution_count": null,
      "outputs": [
        {
          "name": "stdout",
          "output_type": "stream",
          "text": [
            "root\n",
            " |-- key: string (nullable = true)\n",
            " |-- fare_amount: double (nullable = true)\n",
            " |-- pickup_datetime: string (nullable = true)\n",
            " |-- pickup_longitude: double (nullable = true)\n",
            " |-- pickup_latitude: double (nullable = true)\n",
            " |-- dropoff_longitude: double (nullable = true)\n",
            " |-- dropoff_latitude: double (nullable = true)\n",
            " |-- passenger_count: long (nullable = true)\n",
            "\n"
          ]
        }
      ]
    },
    {
      "cell_type": "code",
      "metadata": {
        "colab": {
          "base_uri": "https://localhost:8080/"
        },
        "id": "ACXpVwjvBJUW",
        "outputId": "b3ce0d11-cc3a-4fb9-b3cb-556313b42c6a"
      },
      "source": [
        "data.show() # смотрим кусочек"
      ],
      "execution_count": null,
      "outputs": [
        {
          "name": "stdout",
          "output_type": "stream",
          "text": [
            "+--------------------+-----------+--------------------+------------------+------------------+------------------+------------------+---------------+\n",
            "|                 key|fare_amount|     pickup_datetime|  pickup_longitude|   pickup_latitude| dropoff_longitude|  dropoff_latitude|passenger_count|\n",
            "+--------------------+-----------+--------------------+------------------+------------------+------------------+------------------+---------------+\n",
            "|2010-02-26 21:16:...|        8.1|2010-02-26 21:16:...|         -73.98055|           40.7748|        -73.955208|40.767602000000004|              2|\n",
            "|2012-04-23 07:43:...|        4.1|2012-04-23 07:43:...|        -73.964878|          40.75564|        -73.974467|         40.751963|              1|\n",
            "|2015-03-09 22:52:...|       10.5|2015-03-09 22:52:...|-73.97380828857422|40.784278869628906|-73.94236755371094| 40.78980255126953|              1|\n",
            "|2011-02-23 08:20:...|        5.7|2011-02-23 08:20:...|        -73.973903|         40.763247|        -73.983395|          40.75032|              1|\n",
            "|2014-11-19 19:42:...|       31.0|2014-11-19 19:42:...|        -73.997298|         40.746922|        -73.917932|         40.872907|              1|\n",
            "|2011-05-22 00:32:...|        6.5|2011-05-22 00:32:...|        -73.983554|         40.738541|-74.00175899999999|         40.739504|              1|\n",
            "|2013-06-29 03:25:...|       11.0|2013-06-29 03:25:...|        -73.987661|40.719733000000005|        -74.004531|40.734792999999996|              1|\n",
            "|2012-07-27 01:28:...|       15.7|2012-07-27 01:28:...|         -73.98122|40.781729999999996|        -73.933727|         40.851402|              1|\n",
            "|2013-05-28 10:35:...|       11.5|2013-05-28 10:35:...|        -74.003511|         40.738776|        -73.993769|         40.747381|              1|\n",
            "|2015-04-01 21:25:...|        8.5|2015-04-01 21:25:...| -73.9928970336914|40.757976531982415|-73.99205017089844| 40.73814010620117|              3|\n",
            "|2009-05-15 19:00:...|        5.7|2009-05-15 19:00:...|        -73.990812|          40.73209|        -74.000738|         40.739755|              1|\n",
            "|2011-10-31 23:35:...|        4.9|2011-10-31 23:35:...|        -73.985163|          40.73216|        -73.992783|         40.720355|              1|\n",
            "|2011-02-03 13:43:...|        8.1|2011-02-03 13:43:...|        -73.990425|40.756702000000004|        -74.007662|40.742946999999994|              1|\n",
            "|2013-01-25 10:23:...|       21.0|2013-01-25 10:23:...|        -73.980602|         40.725922|         -73.96588|         40.792235|              1|\n",
            "|2014-04-30 23:09:...|       14.0|2014-04-30 23:09:...|        -73.984413|40.764402000000004|        -73.949476|          40.80213|              1|\n",
            "|2014-05-28 20:08:...|        7.0|2014-05-28 20:08:...|         -73.99534|          40.72504|         -73.97645|40.719145000000005|              1|\n",
            "|2014-08-26 07:23:...|       15.5|2014-08-26 07:23:...|-73.96831999999999|          40.79972|         -73.94281|          40.84067|              6|\n",
            "|2014-09-29 13:06:...|        9.5|2014-09-29 13:06:...|          -73.9804|40.734483000000004|-73.98745699999999|40.726991999999996|              3|\n",
            "|2012-03-02 16:48:...|       14.9|2012-03-02 16:48:...|-73.99607900000001|         40.748517|        -73.969575|         40.800313|              1|\n",
            "|2012-03-25 15:50:...|        7.7|2012-03-25 15:50:...|        -74.002702|         40.733512|-73.98943299999999|         40.756032|              5|\n",
            "+--------------------+-----------+--------------------+------------------+------------------+------------------+------------------+---------------+\n",
            "only showing top 20 rows\n",
            "\n"
          ]
        }
      ]
    },
    {
      "cell_type": "markdown",
      "metadata": {
        "id": "HLoUldPSRvNk"
      },
      "source": [
        "#EDA"
      ]
    },
    {
      "cell_type": "code",
      "metadata": {
        "colab": {
          "base_uri": "https://localhost:8080/"
        },
        "id": "LO52U-DNKnb-",
        "outputId": "9fd212ec-6761-436c-c6db-02c9600da624"
      },
      "source": [
        "# целевая переменная в зависимости от количества пассажиров\n",
        "data.groupBy('passenger_count') \\\n",
        "  .agg(F.avg('fare_amount').alias('fare_amount_avg'), \n",
        "       F.min('fare_amount').alias('fare_amount_min'),\n",
        "       F.max('fare_amount').alias('fare_amount_max'),\n",
        "       F.count('fare_amount').alias('count')) \\\n",
        "  .sort(F.col('fare_amount_avg').desc()) \\\n",
        "  .show()"
      ],
      "execution_count": null,
      "outputs": [
        {
          "name": "stdout",
          "output_type": "stream",
          "text": [
            "+---------------+------------------+---------------+---------------+--------+\n",
            "|passenger_count|   fare_amount_avg|fare_amount_min|fare_amount_max|   count|\n",
            "+---------------+------------------+---------------+---------------+--------+\n",
            "|              9| 36.99304347826087|            2.5|          104.0|      23|\n",
            "|              7|31.788666666666664|            2.5|           88.0|      15|\n",
            "|              8|29.981111111111108|            2.5|           85.0|       9|\n",
            "|             34|              13.3|           13.3|           13.3|       1|\n",
            "|              6|12.126156360165988|          -60.0|          477.0| 1174647|\n",
            "|              2|11.838421254268157|         -176.0|       93963.36| 8175243|\n",
            "|              4|11.766069107911711|         -57.33|          978.0| 1178852|\n",
            "|              3|11.540596515329295|         -300.0|          500.0| 2432712|\n",
            "|              1|11.216405297848935|         -300.0|       75747.02|38337524|\n",
            "|              5|11.208400548080803|          -67.5|         1021.3| 3929346|\n",
            "|             51|               9.3|            9.3|            9.3|       1|\n",
            "|              0| 9.015343523559983|          -12.5|          259.0|  195416|\n",
            "|            208|             8.975|            2.5|           93.9|      64|\n",
            "|            129|               8.9|            8.5|            9.3|       2|\n",
            "|             49|               2.5|            2.5|            2.5|       1|\n",
            "+---------------+------------------+---------------+---------------+--------+\n",
            "\n"
          ]
        }
      ]
    },
    {
      "cell_type": "code",
      "metadata": {
        "colab": {
          "base_uri": "https://localhost:8080/"
        },
        "id": "RtQISnsRitWS",
        "outputId": "cfe713d1-e951-4005-f1bb-d947581fa26c"
      },
      "source": [
        "print((data.count(), len(data.columns))) # shape"
      ],
      "execution_count": null,
      "outputs": [
        {
          "name": "stdout",
          "output_type": "stream",
          "text": [
            "(55423856, 8)\n"
          ]
        }
      ]
    },
    {
      "cell_type": "code",
      "metadata": {
        "id": "LmDhzkBDqVZk"
      },
      "source": [
        "data.createOrReplaceTempView('datatable') # временное представление ввиде SQL-таблицы"
      ],
      "execution_count": null,
      "outputs": []
    },
    {
      "cell_type": "code",
      "metadata": {
        "colab": {
          "base_uri": "https://localhost:8080/"
        },
        "id": "4yFMC0KsPRuu",
        "outputId": "9016c2e5-8df5-4b77-f1e6-9a82fe57dae4"
      },
      "source": [
        "# используя SQL-запрос обрежем все где целевая колонка меньше 0 и больше 150\n",
        "r = \"\"\"\n",
        "select * from datatable\n",
        "where fare_amount>=0 and fare_amount<150\n",
        "\"\"\"\n",
        "data = spark.sql(r)\n",
        "print((data.count(), len(data.columns)))"
      ],
      "execution_count": null,
      "outputs": [
        {
          "name": "stdout",
          "output_type": "stream",
          "text": [
            "(55415718, 8)\n"
          ]
        }
      ]
    },
    {
      "cell_type": "code",
      "metadata": {
        "colab": {
          "base_uri": "https://localhost:8080/"
        },
        "id": "1WrqKpe8Nt5d",
        "outputId": "d2dc5466-24bc-46bc-ace8-d85daaf52e5a"
      },
      "source": [
        "data.select([F.count(F.when(F.isnan(c), c)).alias(c) for c in data.columns]).show() # чекаем NA"
      ],
      "execution_count": null,
      "outputs": [
        {
          "name": "stdout",
          "output_type": "stream",
          "text": [
            "+---+-----------+---------------+----------------+---------------+-----------------+----------------+---------------+\n",
            "|key|fare_amount|pickup_datetime|pickup_longitude|pickup_latitude|dropoff_longitude|dropoff_latitude|passenger_count|\n",
            "+---+-----------+---------------+----------------+---------------+-----------------+----------------+---------------+\n",
            "|  0|          0|              0|               0|              0|                0|               0|              0|\n",
            "+---+-----------+---------------+----------------+---------------+-----------------+----------------+---------------+\n",
            "\n"
          ]
        }
      ]
    },
    {
      "cell_type": "code",
      "metadata": {
        "colab": {
          "base_uri": "https://localhost:8080/"
        },
        "id": "h--sNHyUNt9O",
        "outputId": "38d5a47a-c7a1-4bd7-eb6f-c81864a26ab9"
      },
      "source": [
        "data.select([F.count(F.when(F.isnull(c), c)).alias(c) for c in data.columns]).show() # т.к. замешана JVM чекаем и NULL"
      ],
      "execution_count": null,
      "outputs": [
        {
          "name": "stdout",
          "output_type": "stream",
          "text": [
            "+---+-----------+---------------+----------------+---------------+-----------------+----------------+---------------+\n",
            "|key|fare_amount|pickup_datetime|pickup_longitude|pickup_latitude|dropoff_longitude|dropoff_latitude|passenger_count|\n",
            "+---+-----------+---------------+----------------+---------------+-----------------+----------------+---------------+\n",
            "|  0|          0|              0|               0|              0|              376|             376|              0|\n",
            "+---+-----------+---------------+----------------+---------------+-----------------+----------------+---------------+\n",
            "\n"
          ]
        }
      ]
    },
    {
      "cell_type": "markdown",
      "metadata": {
        "id": "HWKoMdBBOn0c"
      },
      "source": [
        "# очистка"
      ]
    },
    {
      "cell_type": "code",
      "metadata": {
        "id": "ylvJxi9lNuAG"
      },
      "source": [
        "data = data.na.drop() # дропаем NA и NULL"
      ],
      "execution_count": null,
      "outputs": []
    },
    {
      "cell_type": "code",
      "metadata": {
        "id": "sDo_HY82NuCm"
      },
      "source": [
        "# ограничимся в пассажирах\n",
        "data = data.filter(data['passenger_count'] > 0)\n",
        "data = data.filter(data['passenger_count'] <= 6)"
      ],
      "execution_count": null,
      "outputs": []
    },
    {
      "cell_type": "code",
      "metadata": {
        "id": "M0Va2v2HP8T4"
      },
      "source": [
        "# ограничим область координат\n",
        "data = data.filter(data['pickup_latitude'].between(40.3, 41.12))\n",
        "data = data.filter(data['dropoff_latitude'].between(40.3, 41.12))\n",
        "data = data.filter(data['pickup_longitude'].between(-74.46, -73.5))\n",
        "data = data.filter(data['dropoff_longitude'].between(-74.46, -73.5))"
      ],
      "execution_count": null,
      "outputs": []
    },
    {
      "cell_type": "code",
      "metadata": {
        "colab": {
          "base_uri": "https://localhost:8080/"
        },
        "id": "gXeKYdAiP8XZ",
        "outputId": "3b0f8f8d-f8a3-4231-e497-c1ee52dcf13c"
      },
      "source": [
        "data.groupBy('passenger_count') \\\n",
        "  .agg(F.avg('fare_amount').alias('fare_amount_avg'), \n",
        "       F.min('fare_amount').alias('fare_amount_min'),\n",
        "       F.max('fare_amount').alias('fare_amount_max'),\n",
        "       F.count('fare_amount').alias('count')) \\\n",
        "  .sort(F.col('fare_amount_avg').desc()) \\\n",
        "  .show()"
      ],
      "execution_count": null,
      "outputs": [
        {
          "name": "stdout",
          "output_type": "stream",
          "text": [
            "+---------------+------------------+---------------+------------------+--------+\n",
            "|passenger_count|   fare_amount_avg|fare_amount_min|   fare_amount_max|   count|\n",
            "+---------------+------------------+---------------+------------------+--------+\n",
            "|              6|12.120595458782189|            0.0|147.32999999999996| 1150088|\n",
            "|              2|11.787512477821506|            0.0|            149.85| 8008009|\n",
            "|              4|11.724152082279787|            0.0|             149.0| 1154888|\n",
            "|              3|11.505926017375428|            0.0|            149.75| 2381397|\n",
            "|              5|11.207392688422663|            0.0|            148.33| 3840895|\n",
            "|              1|11.169233168081874|            0.0|            149.99|37493914|\n",
            "+---------------+------------------+---------------+------------------+--------+\n",
            "\n"
          ]
        }
      ]
    },
    {
      "cell_type": "code",
      "metadata": {
        "colab": {
          "base_uri": "https://localhost:8080/"
        },
        "id": "DW69lxYaP8aZ",
        "outputId": "b655e375-abc5-4239-e0d6-f5a1a1e11683"
      },
      "source": [
        "print((data.count(), len(data.columns)))"
      ],
      "execution_count": null,
      "outputs": [
        {
          "name": "stdout",
          "output_type": "stream",
          "text": [
            "(54029191, 8)\n"
          ]
        }
      ]
    },
    {
      "cell_type": "code",
      "metadata": {
        "colab": {
          "base_uri": "https://localhost:8080/",
          "height": 376
        },
        "id": "vHO0dgM2RYtZ",
        "outputId": "5e616230-63e1-4ee9-a63d-ba1ea5142b52"
      },
      "source": [
        "# гистограмма цели\n",
        "h = data.select('fare_amount').rdd.flatMap(lambda x: x).histogram(100);\n",
        "plt.figure(figsize=(22,6));\n",
        "sns.barplot(list(map(lambda x: int(x), h[0][:-1])), h[1]);"
      ],
      "execution_count": null,
      "outputs": [
        {
          "name": "stderr",
          "output_type": "stream",
          "text": [
            "/usr/local/lib/python3.7/dist-packages/seaborn/_decorators.py:43: FutureWarning: Pass the following variables as keyword args: x, y. From version 0.12, the only valid positional argument will be `data`, and passing other arguments without an explicit keyword will result in an error or misinterpretation.\n",
            "  FutureWarning\n"
          ]
        },
        {
          "data": {
            "text/plain": [
              "<matplotlib.axes._subplots.AxesSubplot at 0x7fe0366542d0>"
            ]
          },
          "execution_count": 67,
          "metadata": {},
          "output_type": "execute_result"
        },
        {
          "data": {
            "image/png": "[encoded data removed]",
            "text/plain": [
              "<Figure size 1584x432 with 1 Axes>"
            ]
          },
          "metadata": {},
          "output_type": "display_data"
        }
      ]
    },
    {
      "cell_type": "markdown",
      "metadata": {
        "id": "6C_mTts-SB-M"
      },
      "source": [
        "#Feature engineering"
      ]
    },
    {
      "cell_type": "code",
      "metadata": {
        "id": "An8wsU1hP8dR"
      },
      "source": [
        "# дистанция с учетом круглости земли\n",
        "from geopy.distance import great_circle\n",
        "\n",
        "@F.udf(LongType())\n",
        "def get_circle(lat_pick, lon_pick, lat_drop, lon_drop):\n",
        "    return round(great_circle((lat_pick, lon_pick), (lat_drop, lon_drop)).m)"
      ],
      "execution_count": null,
      "outputs": []
    },
    {
      "cell_type": "code",
      "metadata": {
        "id": "0fqNDisEP8fz"
      },
      "source": [
        "data = data.withColumn(\"distance\", get_circle(data['pickup_latitude'], \n",
        "                                            data['pickup_longitude'], \n",
        "                                            data['dropoff_latitude'], \n",
        "                                            data['dropoff_longitude']))"
      ],
      "execution_count": null,
      "outputs": []
    },
    {
      "cell_type": "code",
      "metadata": {
        "id": "ehDCI9BHSxcx"
      },
      "source": [
        "# направление в градусах\n",
        "from geographiclib.geodesic import Geodesic\n",
        "\n",
        "@F.udf(DoubleType())\n",
        "def get_bearing(lat1, lat2, long1, long2):\n",
        "    return Geodesic.WGS84.Inverse(lat1, long1, lat2, long2)['azi1']"
      ],
      "execution_count": null,
      "outputs": []
    },
    {
      "cell_type": "code",
      "metadata": {
        "id": "sC71pnL2Sxfk"
      },
      "source": [
        "data = data.withColumn(\"bearing\", get_bearing(data['pickup_latitude'], \n",
        "                                              data['dropoff_latitude'], \n",
        "                                              data['pickup_longitude'], \n",
        "                                              data['dropoff_longitude']))"
      ],
      "execution_count": null,
      "outputs": []
    },
    {
      "cell_type": "code",
      "metadata": {
        "id": "Gl5JAILeu8nL"
      },
      "source": [
        "from math import cos\n",
        "\n",
        "@F.udf(DoubleType())\n",
        "def get_cos(bearing):\n",
        "    return cos(bearing)"
      ],
      "execution_count": 12,
      "outputs": []
    },
    {
      "cell_type": "code",
      "metadata": {
        "id": "k7KS6MsevNhZ"
      },
      "source": [
        "data = data.withColumn(\"cos_bearing\", get_cos(data['bearing']))"
      ],
      "execution_count": null,
      "outputs": []
    },
    {
      "cell_type": "code",
      "metadata": {
        "id": "eWFNOrN9Sxii"
      },
      "source": [
        "#datetime признаки\n",
        "\n",
        "data = data.withColumn('dayofweek', F.dayofweek(data['pickup_datetime']))\n",
        "data = data.withColumn('hour', F.hour(data['pickup_datetime']))\n",
        "\n",
        "data = data.withColumn('peak_surcharge',\n",
        "                       F.when((data['hour']>=16) &\n",
        "                              (data['hour']<20) &\n",
        "                              (data['dayofweek']!=7) & \n",
        "                              (data['dayofweek']!=1), 1).otherwise(0))\n",
        "\n",
        "data = data.withColumn('night_surcharge', \n",
        "                       F.when((data['hour']>=20) | (data['hour']<6), 1).otherwise(0))\n",
        "\n",
        "data = data.withColumn('year', F.year(data['pickup_datetime']))\n",
        "data = data.withColumn('month', F.month(data['pickup_datetime']))\n",
        "data = data.withColumn('date', F.dayofmonth(data['pickup_datetime']))"
      ],
      "execution_count": null,
      "outputs": []
    },
    {
      "cell_type": "code",
      "metadata": {
        "id": "xu6l9bmWSxlQ"
      },
      "source": [
        "# бинарный признак удорожания в 2012 году\n",
        "data = data.withColumn('after_oct_2012', \n",
        "                       F.when(\n",
        "                           (\n",
        "                           (data['year'] == 2012) &\n",
        "                            (data['month'] >= 9)\n",
        "                            ) | (data['year'] > 2012), 1).otherwise(0))"
      ],
      "execution_count": null,
      "outputs": []
    },
    {
      "cell_type": "code",
      "metadata": {
        "colab": {
          "base_uri": "https://localhost:8080/"
        },
        "id": "JvDQwlUXSxnz",
        "outputId": "46fd4666-87d8-46c4-dc6f-99482b41f1b9"
      },
      "source": [
        "data.show() # смотрим результат"
      ],
      "execution_count": null,
      "outputs": [
        {
          "name": "stdout",
          "output_type": "stream",
          "text": [
            "+--------------------+-----------+--------------------+------------------+------------------+------------------+------------------+---------------+--------+-------------------+--------------------+---------+----+--------------+---------------+----+-----+----+--------------+\n",
            "|                 key|fare_amount|     pickup_datetime|  pickup_longitude|   pickup_latitude| dropoff_longitude|  dropoff_latitude|passenger_count|distance|            bearing|         cos_bearing|dayofweek|hour|peak_surcharge|night_surcharge|year|month|date|after_oct_2012|\n",
            "+--------------------+-----------+--------------------+------------------+------------------+------------------+------------------+---------------+--------+-------------------+--------------------+---------+----+--------------+---------------+----+-----+----+--------------+\n",
            "|2010-02-26 21:16:...|        8.1|2010-02-26 21:16:...|         -73.98055|           40.7748|        -73.955208|40.767602000000004|              2|    2279| 110.47772661800482| -0.8668317906107185|        6|  21|             0|              1|2010|    2|  26|             0|\n",
            "|2012-04-23 07:43:...|        4.1|2012-04-23 07:43:...|        -73.964878|          40.75564|        -73.974467|         40.751963|              1|     905|-116.75655444669087| -0.8689961959903236|        2|   7|             0|              0|2012|    4|  23|             0|\n",
            "|2015-03-09 22:52:...|       10.5|2015-03-09 22:52:...|-73.97380828857422|40.784278869628906|-73.94236755371094| 40.78980255126953|              1|    2717|  76.97470451746914|-0.00568447390479...|        2|  22|             0|              1|2015|    3|   9|             1|\n",
            "|2011-02-23 08:20:...|        5.7|2011-02-23 08:20:...|        -73.973903|         40.763247|        -73.983395|          40.75032|              1|    1645| -150.8198002583682|  0.9997273337484269|        4|   8|             0|              0|2011|    2|  23|             0|\n",
            "|2014-11-19 19:42:...|       31.0|2014-11-19 19:42:...|        -73.997298|         40.746922|        -73.917932|         40.872907|              1|   15520| 25.552143225374902|  0.9133326191480794|        4|  19|             1|              0|2014|   11|  19|             1|\n",
            "|2011-05-22 00:32:...|        6.5|2011-05-22 00:32:...|        -73.983554|         40.738541|-74.00175899999999|         40.739504|              1|    1538| -86.01582056551969| -0.3690414025215629|        1|   0|             0|              1|2011|    5|  22|             0|\n",
            "|2013-06-29 03:25:...|       11.0|2013-06-29 03:25:...|        -73.987661|40.719733000000005|        -74.004531|40.734792999999996|              1|    2197| -40.43178091159897| -0.9175493604465574|        7|   3|             0|              1|2013|    6|  29|             1|\n",
            "|2012-07-27 01:28:...|       15.7|2012-07-27 01:28:...|         -73.98122|40.781729999999996|        -73.933727|         40.851402|              1|    8717| 27.363216322778175| -0.6128630489786847|        6|   1|             0|              1|2012|    7|  27|             0|\n",
            "|2013-05-28 10:35:...|       11.5|2013-05-28 10:35:...|        -74.003511|         40.738776|        -73.993769|         40.747381|              1|    1261|  40.72762530442743| -0.9936133579425158|        3|  10|             0|              0|2013|    5|  28|             1|\n",
            "|2015-04-01 21:25:...|        8.5|2015-04-01 21:25:...| -73.9928970336914|40.757976531982415|-73.99205017089844| 40.73814010620117|              3|    2207|   178.140083376672| -0.5972744038721072|        4|  21|             0|              1|2015|    4|   1|             1|\n",
            "|2009-05-15 19:00:...|        5.7|2009-05-15 19:00:...|        -73.990812|          40.73209|        -74.000738|         40.739755|              1|    1194| -44.56478938948405|   0.835094246835872|        6|  19|             1|              0|2009|    5|  15|             0|\n",
            "|2011-10-31 23:35:...|        4.9|2011-10-31 23:35:...|        -73.985163|          40.73216|        -73.992783|         40.720355|              1|    1461|-153.84333804983615| -0.9955191182527202|        2|  23|             0|              1|2011|   10|  31|             0|\n",
            "|2011-02-03 13:43:...|        8.1|2011-02-03 13:43:...|        -73.990425|40.756702000000004|        -74.007662|40.742946999999994|              1|    2109| -136.3725814980841| -0.2827874456678984|        5|  13|             0|              0|2011|    2|   3|             0|\n",
            "|2013-01-25 10:23:...|       21.0|2013-01-25 10:23:...|        -73.980602|         40.725922|         -73.96588|         40.792235|              1|    7477|  9.577103872962118| -0.9884208237159875|        6|  10|             0|              0|2013|    1|  25|             1|\n",
            "|2014-04-30 23:09:...|       14.0|2014-04-30 23:09:...|        -73.984413|40.764402000000004|        -73.949476|          40.80213|              1|    5124| 35.129573840389725| -0.8407904433868261|        4|  23|             0|              1|2014|    4|  30|             1|\n",
            "|2014-05-28 20:08:...|        7.0|2014-05-28 20:08:...|         -73.99534|          40.72504|         -73.97645|40.719145000000005|              1|    1722| 112.29617319569633|  0.6958724318610072|        4|  20|             0|              1|2014|    5|  28|             1|\n",
            "|2014-08-26 07:23:...|       15.5|2014-08-26 07:23:...|-73.96831999999999|          40.79972|         -73.94281|          40.84067|              6|    5034|  25.31750598163727|  0.9829794963164882|        3|   7|             0|              0|2014|    8|  26|             1|\n",
            "|2014-09-29 13:06:...|        9.5|2014-09-29 13:06:...|          -73.9804|40.734483000000004|-73.98745699999999|40.726991999999996|              3|    1023|-144.37064737483783|   0.989847749745057|        2|  13|             0|              0|2014|    9|  29|             1|\n",
            "|2012-03-02 16:48:...|       14.9|2012-03-02 16:48:...|-73.99607900000001|         40.748517|        -73.969575|         40.800313|              1|    6177| 21.247438179715846| -0.7359616064409116|        6|  16|             1|              0|2012|    3|   2|             0|\n",
            "|2012-03-25 15:50:...|        7.7|2012-03-25 15:50:...|        -74.002702|         40.733512|-73.98943299999999|         40.756032|              5|    2742| 24.134086429857554|   0.541433764397829|        1|  15|             0|              0|2012|    3|  25|             0|\n",
            "+--------------------+-----------+--------------------+------------------+------------------+------------------+------------------+---------------+--------+-------------------+--------------------+---------+----+--------------+---------------+----+-----+----+--------------+\n",
            "only showing top 20 rows\n",
            "\n"
          ]
        }
      ]
    },
    {
      "cell_type": "code",
      "metadata": {
        "colab": {
          "base_uri": "https://localhost:8080/"
        },
        "id": "pRLJHQoeSxqH",
        "outputId": "c2472aca-33a9-4cf2-b15c-f1c744c982f5"
      },
      "source": [
        "data.printSchema() # смотрим типы данных, можно подумать чтоб перекастовать в менее ресурсоемкие типы"
      ],
      "execution_count": null,
      "outputs": [
        {
          "name": "stdout",
          "output_type": "stream",
          "text": [
            "root\n",
            " |-- key: string (nullable = true)\n",
            " |-- fare_amount: double (nullable = true)\n",
            " |-- pickup_datetime: string (nullable = true)\n",
            " |-- pickup_longitude: double (nullable = true)\n",
            " |-- pickup_latitude: double (nullable = true)\n",
            " |-- dropoff_longitude: double (nullable = true)\n",
            " |-- dropoff_latitude: double (nullable = true)\n",
            " |-- passenger_count: long (nullable = true)\n",
            " |-- distance: long (nullable = true)\n",
            " |-- bearing: double (nullable = true)\n",
            " |-- cos_bearing: double (nullable = true)\n",
            " |-- dayofweek: integer (nullable = true)\n",
            " |-- hour: integer (nullable = true)\n",
            " |-- peak_surcharge: integer (nullable = false)\n",
            " |-- night_surcharge: integer (nullable = false)\n",
            " |-- year: integer (nullable = true)\n",
            " |-- month: integer (nullable = true)\n",
            " |-- date: integer (nullable = true)\n",
            " |-- after_oct_2012: integer (nullable = false)\n",
            "\n"
          ]
        }
      ]
    },
    {
      "cell_type": "code",
      "metadata": {
        "colab": {
          "base_uri": "https://localhost:8080/"
        },
        "id": "s3-qOvO1SxsX",
        "outputId": "c34b6fd5-b642-4b09-e4fd-7316a492ef8a"
      },
      "source": [
        "print((data.count(), len(data.columns)))"
      ],
      "execution_count": null,
      "outputs": [
        {
          "name": "stdout",
          "output_type": "stream",
          "text": [
            "(54029191, 19)\n"
          ]
        }
      ]
    },
    {
      "cell_type": "code",
      "metadata": {
        "colab": {
          "base_uri": "https://localhost:8080/"
        },
        "id": "v-YYDH3uZbep",
        "outputId": "26024746-e846-4de9-9627-1948a393c667"
      },
      "source": [
        "data.show()"
      ],
      "execution_count": null,
      "outputs": [
        {
          "name": "stdout",
          "output_type": "stream",
          "text": [
            "+--------------------+-----------+--------------------+------------------+------------------+------------------+------------------+---------------+--------+-------------------+--------------------+---------+----+--------------+---------------+----+-----+----+--------------+---+\n",
            "|                 key|fare_amount|     pickup_datetime|  pickup_longitude|   pickup_latitude| dropoff_longitude|  dropoff_latitude|passenger_count|distance|            bearing|         cos_bearing|dayofweek|hour|peak_surcharge|night_surcharge|year|month|date|after_oct_2012|JFK|\n",
            "+--------------------+-----------+--------------------+------------------+------------------+------------------+------------------+---------------+--------+-------------------+--------------------+---------+----+--------------+---------------+----+-----+----+--------------+---+\n",
            "|2010-02-26 21:16:...|        8.1|2010-02-26 21:16:...|         -73.98055|           40.7748|        -73.955208|40.767602000000004|              2|    2279| 110.47772661800482| -0.8668317906107185|        6|  21|             0|              1|2010|    2|  26|             0|  0|\n",
            "|2012-04-23 07:43:...|        4.1|2012-04-23 07:43:...|        -73.964878|          40.75564|        -73.974467|         40.751963|              1|     905|-116.75655444669087| -0.8689961959903236|        2|   7|             0|              0|2012|    4|  23|             0|  0|\n",
            "|2015-03-09 22:52:...|       10.5|2015-03-09 22:52:...|-73.97380828857422|40.784278869628906|-73.94236755371094| 40.78980255126953|              1|    2717|  76.97470451746914|-0.00568447390479...|        2|  22|             0|              1|2015|    3|   9|             1|  0|\n",
            "|2011-02-23 08:20:...|        5.7|2011-02-23 08:20:...|        -73.973903|         40.763247|        -73.983395|          40.75032|              1|    1645| -150.8198002583682|  0.9997273337484269|        4|   8|             0|              0|2011|    2|  23|             0|  0|\n",
            "|2014-11-19 19:42:...|       31.0|2014-11-19 19:42:...|        -73.997298|         40.746922|        -73.917932|         40.872907|              1|   15520| 25.552143225374902|  0.9133326191480794|        4|  19|             1|              0|2014|   11|  19|             1|  0|\n",
            "|2011-05-22 00:32:...|        6.5|2011-05-22 00:32:...|        -73.983554|         40.738541|-74.00175899999999|         40.739504|              1|    1538| -86.01582056551969| -0.3690414025215629|        1|   0|             0|              1|2011|    5|  22|             0|  0|\n",
            "|2013-06-29 03:25:...|       11.0|2013-06-29 03:25:...|        -73.987661|40.719733000000005|        -74.004531|40.734792999999996|              1|    2197| -40.43178091159897| -0.9175493604465574|        7|   3|             0|              1|2013|    6|  29|             1|  0|\n",
            "|2012-07-27 01:28:...|       15.7|2012-07-27 01:28:...|         -73.98122|40.781729999999996|        -73.933727|         40.851402|              1|    8717| 27.363216322778175| -0.6128630489786847|        6|   1|             0|              1|2012|    7|  27|             0|  0|\n",
            "|2013-05-28 10:35:...|       11.5|2013-05-28 10:35:...|        -74.003511|         40.738776|        -73.993769|         40.747381|              1|    1261|  40.72762530442743| -0.9936133579425158|        3|  10|             0|              0|2013|    5|  28|             1|  0|\n",
            "|2015-04-01 21:25:...|        8.5|2015-04-01 21:25:...| -73.9928970336914|40.757976531982415|-73.99205017089844| 40.73814010620117|              3|    2207|   178.140083376672| -0.5972744038721072|        4|  21|             0|              1|2015|    4|   1|             1|  0|\n",
            "|2009-05-15 19:00:...|        5.7|2009-05-15 19:00:...|        -73.990812|          40.73209|        -74.000738|         40.739755|              1|    1194| -44.56478938948405|   0.835094246835872|        6|  19|             1|              0|2009|    5|  15|             0|  0|\n",
            "|2011-10-31 23:35:...|        4.9|2011-10-31 23:35:...|        -73.985163|          40.73216|        -73.992783|         40.720355|              1|    1461|-153.84333804983615| -0.9955191182527202|        2|  23|             0|              1|2011|   10|  31|             0|  0|\n",
            "|2011-02-03 13:43:...|        8.1|2011-02-03 13:43:...|        -73.990425|40.756702000000004|        -74.007662|40.742946999999994|              1|    2109| -136.3725814980841| -0.2827874456678984|        5|  13|             0|              0|2011|    2|   3|             0|  0|\n",
            "|2013-01-25 10:23:...|       21.0|2013-01-25 10:23:...|        -73.980602|         40.725922|         -73.96588|         40.792235|              1|    7477|  9.577103872962118| -0.9884208237159875|        6|  10|             0|              0|2013|    1|  25|             1|  0|\n",
            "|2014-04-30 23:09:...|       14.0|2014-04-30 23:09:...|        -73.984413|40.764402000000004|        -73.949476|          40.80213|              1|    5124| 35.129573840389725| -0.8407904433868261|        4|  23|             0|              1|2014|    4|  30|             1|  0|\n",
            "|2014-05-28 20:08:...|        7.0|2014-05-28 20:08:...|         -73.99534|          40.72504|         -73.97645|40.719145000000005|              1|    1722| 112.29617319569633|  0.6958724318610072|        4|  20|             0|              1|2014|    5|  28|             1|  0|\n",
            "|2014-08-26 07:23:...|       15.5|2014-08-26 07:23:...|-73.96831999999999|          40.79972|         -73.94281|          40.84067|              6|    5034|  25.31750598163727|  0.9829794963164882|        3|   7|             0|              0|2014|    8|  26|             1|  0|\n",
            "|2014-09-29 13:06:...|        9.5|2014-09-29 13:06:...|          -73.9804|40.734483000000004|-73.98745699999999|40.726991999999996|              3|    1023|-144.37064737483783|   0.989847749745057|        2|  13|             0|              0|2014|    9|  29|             1|  0|\n",
            "|2012-03-02 16:48:...|       14.9|2012-03-02 16:48:...|-73.99607900000001|         40.748517|        -73.969575|         40.800313|              1|    6177| 21.247438179715846| -0.7359616064409116|        6|  16|             1|              0|2012|    3|   2|             0|  0|\n",
            "|2012-03-25 15:50:...|        7.7|2012-03-25 15:50:...|        -74.002702|         40.733512|-73.98943299999999|         40.756032|              5|    2742| 24.134086429857554|   0.541433764397829|        1|  15|             0|              0|2012|    3|  25|             0|  0|\n",
            "+--------------------+-----------+--------------------+------------------+------------------+------------------+------------------+---------------+--------+-------------------+--------------------+---------+----+--------------+---------------+----+-----+----+--------------+---+\n",
            "only showing top 20 rows\n",
            "\n"
          ]
        }
      ]
    },
    {
      "cell_type": "code",
      "metadata": {
        "id": "12YLxgrHSxux"
      },
      "source": [
        "# сохраним результаты в новый паркет, занимает около 6-7 часов в 2 потока и 3-4 часа в 5 потоков\n",
        "\n",
        "data.write.parquet('/content/drive/MyDrive/@/trainW0.parquet')"
      ],
      "execution_count": null,
      "outputs": []
    },
    {
      "cell_type": "markdown",
      "metadata": {
        "id": "fbYRd-MAU-RV"
      },
      "source": [
        "#пробуем модели "
      ]
    },
    {
      "cell_type": "code",
      "metadata": {
        "id": "lxNl3MzGScO-"
      },
      "source": [
        "df_train = spark.read.parquet('/content/drive/MyDrive/@/train_1.parquet')"
      ],
      "execution_count": 23,
      "outputs": []
    },
    {
      "cell_type": "code",
      "metadata": {
        "id": "J5UCx7wFVTkk"
      },
      "source": [
        "# df_train = df_train.withColumn(\"cos_pickup_longitude\", get_cos(df_train['pickup_longitude']))"
      ],
      "execution_count": 13,
      "outputs": []
    },
    {
      "cell_type": "code",
      "metadata": {
        "id": "MD9yOY9IVfHH"
      },
      "source": [
        "# df_train = df_train.withColumn(\"cos_pickup_latitude\", get_cos(df_train['pickup_latitude']))\n",
        "# df_train = df_train.withColumn(\"cos_dropoff_longitude\", get_cos(df_train['dropoff_longitude']))\n",
        "# df_train = df_train.withColumn(\"cos_dropoff_latitude\", get_cos(df_train['dropoff_latitude']))"
      ],
      "execution_count": 14,
      "outputs": []
    },
    {
      "cell_type": "code",
      "metadata": {
        "colab": {
          "base_uri": "https://localhost:8080/"
        },
        "id": "pnqP1yTyScSD",
        "outputId": "84aa4954-b7c9-4461-a021-032f790bd70d"
      },
      "source": [
        "df_train.show()"
      ],
      "execution_count": 15,
      "outputs": [
        {
          "output_type": "stream",
          "name": "stdout",
          "text": [
            "+--------------------+-----------+--------------------+-----------------+-----------------+------------------+-----------------+---------------+--------+-------------------+---------+----+--------------+---------------+----+-----+----+--------------+--------------------+--------------------+-------------------+---------------------+--------------------+\n",
            "|                 key|fare_amount|     pickup_datetime| pickup_longitude|  pickup_latitude| dropoff_longitude| dropoff_latitude|passenger_count|distance|            bearing|dayofweek|hour|peak_surcharge|night_surcharge|year|month|date|after_oct_2012|         cos_bearing|cos_pickup_longitude|cos_pickup_latitude|cos_dropoff_longitude|cos_dropoff_latitude|\n",
            "+--------------------+-----------+--------------------+-----------------+-----------------+------------------+-----------------+---------------+--------+-------------------+---------+----+--------------+---------------+----+-----+----+--------------+--------------------+--------------------+-------------------+---------------------+--------------------+\n",
            "|2014-03-17 14:24:...|        6.5|2014-03-17 14:24:...|       -73.947005|         40.77862|        -73.959663|        40.782467|              1|    1148| -68.20347159325686|        2|  14|             0|              0|2014|    3|  17|             1|  0.6125080134940437| 0.11929287460363253|-0.9980733766011064|   0.1318505928782575| -0.9983046762280875|\n",
            "|2009-12-02 07:53:...|        8.5|2009-12-02 07:53:...|       -73.969987|        40.797387|        -73.987398|        40.771092|              1|    3271|-153.27848929325168|        4|   7|             0|              0|2009|   12|   2|             0| -0.7902676051460662| 0.14207725185644296|-0.9990619439361326|  0.15928922218423136| -0.9975780284434964|\n",
            "|2012-02-06 00:29:...|        5.7|2012-02-06 00:29:...|       -73.987393|        40.733318|         -73.99134|        40.719457|              5|    1577|-167.77543977905665|        2|   0|             0|              1|2012|    2|   6|             0| -0.2952977848532391| 0.15928428602243655|-0.9942396090284081|  0.16317964286824393| -0.9926585227848772|\n",
            "|2015-06-02 10:11:...|       14.0|2015-06-02 10:11:...|-73.9811019897461|40.73769378662109|-73.96089935302734|40.76105880737305|              1|    3106|  33.32115245981629|        3|  10|             0|              0|2015|    6|   2|             1| -0.3282304220617914| 0.15307048362092254|-0.9946990867196318|  0.13307605096635522| -0.9968299583663589|\n",
            "|2009-11-10 21:32:...|       18.5|2009-11-10 21:32:...|       -73.970528|        40.767352|         -73.94404|        40.840667|              2|    8452| 15.342799798701558|        3|  21|             0|              1|2009|   11|  10|             0| -0.9340653984514833| 0.14261274290341203|-0.9973109116806521|  0.11634852729426524|     -0.999999999297|\n",
            "|2011-11-18 08:58:...|       12.9|2011-11-18 08:58:...|       -73.976729|         40.73921|        -73.978276|        40.760189|              1|    2336| -3.209250358255769|        6|   8|             0|              0|2011|   11|  18|             0| -0.9977120904540119|  0.1487475785514997|-0.9948538534443128|  0.15027718988113578| -0.9967603781025814|\n",
            "|2011-12-18 00:06:...|        7.7|2011-12-18 00:06:...|       -74.006917|        40.705637|         -73.98042|        40.765045|              6|    6973| 18.731856409469703|        1|   0|             0|              1|2011|   12|  18|             0|   0.993081405007038| 0.17852743629447418|-0.9908922445499355|  0.15239649539230365| -0.9971391853669832|\n",
            "|2013-10-11 10:23:...|       12.5|2013-10-11 10:23:...|       -73.973338|        40.747856|         -73.99382|        40.754596|              1|    1881| -66.59458957594086|        6|  10|             0|              0|2013|   10|  11|             1| -0.8132133069796682| 0.14539345396590012|-0.9956926740660877|  0.16562589755659576| -0.9962949535588669|\n",
            "|2014-09-03 21:01:...|        7.0|2014-09-03 21:01:...|       -73.991797|        40.738512|         -73.97661|         40.75044|              1|    1843|  44.07415405528794|        4|  21|             0|              1|2014|    9|   3|             1|  0.9957841201077662| 0.16363050035528676|-0.9947828895078383|   0.1486299013499567| -0.9959289255978725|\n",
            "|2011-11-28 06:51:...|        8.5|2011-11-28 06:51:...|       -74.003833|        40.741425|        -74.014865|        40.742523|              1|     937| -82.54117477473652|        2|   6|             0|              0|2011|   11|  28|             0|  0.6526149510892733|  0.1754921367763848|-0.9950758373154264|  0.18634202999271693| -0.9951840673626167|\n",
            "|2013-02-15 00:32:...|       11.5|2013-02-15 00:32:...|       -73.981174|        40.767704|        -73.928787|        40.752297|              2|    4733|  111.1283681997647|        6|   0|             0|              1|2013|    2|  15|             1| -0.3877330738048065| 0.15314164485675358| -0.997336646825232|  0.10118617205280689| -0.9960946019395349|\n",
            "|2014-01-24 10:20:...|       24.5|2014-01-24 10:20:...|       -73.972837|          40.7932|         -73.99682|         40.74705|              5|    5515|-158.43370184036593|        6|  10|             0|              0|2014|    1|  24|             1| 0.21503450957471323| 0.14489775940830543|-0.9988718735735651|  0.16858371376595568| -0.9956176222453864|\n",
            "|2009-09-11 00:29:...|        4.5|2009-09-11 00:29:...|       -74.003891|        40.742989|        -74.002825|        40.749607|              1|     741|  6.983830730662289|        6|   0|             0|              1|2009|    9|  11|             0|  0.7644262347843284| 0.17554923636946665|-0.9952296384125985|  0.17449969110947267| -0.9958534918116458|\n",
            "|2009-10-02 16:58:...|        4.1|2009-10-02 16:58:...|        -73.98196|        40.732292|        -73.975823|        40.740625|              1|    1061| 29.255387438354234|        6|  16|             1|              0|2009|   10|   2|             0| -0.5561472622601276| 0.15391832601090075|-0.9941291188346012|  0.14785159669569875| -0.9949962257100505|\n",
            "|2010-04-18 15:53:...|       10.9|2010-04-18 15:53:...|       -73.926915|        40.744268|        -73.964779|        40.769607|              1|    4256| -48.63793123839377|        1|  15|             0|              0|2010|    4|  18|             0|-0.05672442812264...| 0.09932360386792696|-0.9953536036866557|   0.1369201805436824| -0.9974736374523361|\n",
            "|2011-08-20 21:14:...|        6.1|2011-08-20 21:14:...|        -73.97547|        40.745232|        -73.982732|        40.729667|              1|    1836|-160.45868262745248|        7|  21|             0|              1|2011|    8|  20|             0| -0.9719392419872876| 0.14750246711723386|-0.9954459619376504|    0.154681080587716| -0.9938416684090744|\n",
            "|2011-11-16 14:31:...|        4.1|2011-11-16 14:31:...|       -73.982535|        40.772442|          -73.9902|        40.775567|              1|     733|-61.793294462842425|        4|  14|             0|              0|2011|   11|  16|             0|  0.5074627926704356|  0.1544864485899341|-0.9976710203606077|  0.16205481721198417| -0.9978793032472568|\n",
            "|2013-05-06 13:04:...|        7.0|2013-05-06 13:04:...|       -73.968433|        40.750655|        -73.956043|        40.768832|              5|    2275| 27.393672607459195|        2|  13|             0|              0|2013|    5|   6|             1| -0.6366413346918747| 0.14053884536354252|-0.9959482831033458|  0.12826134085069973| -0.9974182837532936|\n",
            "|2014-03-21 11:37:...|        7.5|2014-03-21 11:37:...|       -73.964569|         40.76878|        -73.953485|        40.788121|              1|    2344| 23.536196420505807|        6|  11|             0|              0|2014|    3|  21|             1|-0.02574563637215...| 0.13671215528858985|-0.9974145482517888|  0.12572405203441758| -0.9986178064663599|\n",
            "|2014-10-21 17:28:...|       12.0|2014-10-21 17:28:...|       -73.991436|        40.717186|        -73.978185|        40.746625|              1|    3459| 18.897177050795676|        3|  17|             1|              0|2014|   10|  21|             1|  0.9988663282908515| 0.16327435536801946| -0.992381284331394|  0.15018722266390055| -0.9955777873299517|\n",
            "+--------------------+-----------+--------------------+-----------------+-----------------+------------------+-----------------+---------------+--------+-------------------+---------+----+--------------+---------------+----+-----+----+--------------+--------------------+--------------------+-------------------+---------------------+--------------------+\n",
            "only showing top 20 rows\n",
            "\n"
          ]
        }
      ]
    },
    {
      "cell_type": "code",
      "metadata": {
        "id": "r0vg_PvDV3sl"
      },
      "source": [
        "(trainingData, testData) = df_train.randomSplit([0.7, 0.3], seed=8)"
      ],
      "execution_count": 24,
      "outputs": []
    },
    {
      "cell_type": "code",
      "metadata": {
        "id": "XH7hIiiMqIBB"
      },
      "source": [
        "chosen_few = ['pickup_longitude',\n",
        "              'pickup_latitude',\n",
        "              'dropoff_longitude',\n",
        "              'dropoff_latitude',\n",
        "              'passenger_count',\n",
        "              'distance',\n",
        "              'bearing',\n",
        "              'dayofweek',\n",
        "              'hour',\n",
        "              'peak_surcharge',\n",
        "              'night_surcharge',\n",
        "              'year',\n",
        "              'month',\n",
        "              'date',\n",
        "              'after_oct_2012']\n",
        "\n",
        "another_chosen_few = ['cos_pickup_longitude',\n",
        "              'cos_pickup_latitude',\n",
        "              'cos_dropoff_longitude',\n",
        "              'cos_dropoff_latitude',\n",
        "              'passenger_count',\n",
        "              'distance',\n",
        "              'cos_bearing',\n",
        "              'dayofweek',\n",
        "              'hour',\n",
        "              'peak_surcharge',\n",
        "              'night_surcharge',\n",
        "              'year',\n",
        "              'month',\n",
        "              'date',\n",
        "              'after_oct_2012']"
      ],
      "execution_count": 25,
      "outputs": []
    },
    {
      "cell_type": "code",
      "metadata": {
        "id": "AI03ljyEr9Of"
      },
      "source": [
        "vectorAssembler = VectorAssembler(\n",
        "    inputCols=chosen_few,\n",
        "    outputCol='rawFeatures')"
      ],
      "execution_count": 26,
      "outputs": []
    },
    {
      "cell_type": "code",
      "metadata": {
        "id": "pvYMqZ4VSny-"
      },
      "source": [
        "vectorIndexer = VectorIndexer(\n",
        "    inputCol=\"rawFeatures\", outputCol=\"features\", maxCategories=4)"
      ],
      "execution_count": 27,
      "outputs": []
    },
    {
      "cell_type": "code",
      "metadata": {
        "id": "e_6b9py4WH1n"
      },
      "source": [
        "trainingData = vectorAssembler.setHandleInvalid(\"skip\").transform(trainingData)\n",
        "testData = vectorAssembler.setHandleInvalid(\"skip\").transform(testData)"
      ],
      "execution_count": 28,
      "outputs": []
    },
    {
      "cell_type": "code",
      "metadata": {
        "id": "zJRvFuwyG5Qu"
      },
      "source": [
        "trainingData = vectorIndexer.setHandleInvalid(\"skip\").fit(trainingData).transform(trainingData)\n",
        "testData = vectorIndexer.setHandleInvalid(\"skip\").fit(testData).transform(testData)"
      ],
      "execution_count": 29,
      "outputs": []
    },
    {
      "cell_type": "code",
      "metadata": {
        "id": "dh3uC0TCsSga"
      },
      "source": [
        "# trainingData.limit(3).toPandas()['features'][0]"
      ],
      "execution_count": null,
      "outputs": []
    },
    {
      "cell_type": "code",
      "metadata": {
        "colab": {
          "base_uri": "https://localhost:8080/"
        },
        "id": "Daha08sSzsXd",
        "outputId": "d174fc2d-2b8b-4e74-bc2a-88904cb1a216"
      },
      "source": [
        "# gbt = GBTRegressor(featuresCol='features', labelCol='fare_amount')\n",
        "# model_gbt_more = gbt.fit(trainingData)\n",
        "# predictions = model_gbt_more.transform(testData)\n",
        "\n",
        "# evaluator = RegressionEvaluator(\n",
        "#     labelCol='fare_amount',  predictionCol=\"prediction\", metricName=\"rmse\")\n",
        "\n",
        "# rmse = evaluator.evaluate(predictions)\n",
        "# print(\"GBT model. RMSE на валидационке = %g\" % rmse)"
      ],
      "execution_count": null,
      "outputs": [
        {
          "output_type": "stream",
          "name": "stdout",
          "text": [
            "GBT model. RMSE на валидационке = 3.95671\n"
          ]
        }
      ]
    },
    {
      "cell_type": "code",
      "metadata": {
        "colab": {
          "base_uri": "https://localhost:8080/"
        },
        "id": "HQ_72-_0Gz4S",
        "outputId": "ed3c4658-a9e3-4531-a789-3f59a14b974e"
      },
      "source": [
        "gbt = GBTRegressor(featuresCol='features', labelCol='fare_amount')\n",
        "model_gbt_more = gbt.fit(trainingData)\n",
        "predictions = model_gbt_more.transform(testData)\n",
        "\n",
        "\n",
        "evaluator = RegressionEvaluator(\n",
        "    labelCol='fare_amount',  predictionCol=\"prediction\", metricName=\"rmse\")\n",
        "\n",
        "rmse = evaluator.evaluate(predictions)\n",
        "print(\"GBT model. RMSE на валидационке = %g\" % rmse)"
      ],
      "execution_count": null,
      "outputs": [
        {
          "output_type": "stream",
          "name": "stdout",
          "text": [
            "GBT model. RMSE на валидационке = 3.97589\n"
          ]
        }
      ]
    },
    {
      "cell_type": "markdown",
      "metadata": {
        "id": "UuUkns-ivDWs"
      },
      "source": [
        "///"
      ]
    },
    {
      "cell_type": "code",
      "metadata": {
        "id": "5jOBIYiFoK8a"
      },
      "source": [
        "# model_gbt_more.save(\"/content/drive/MyDrive/@/models/model_gbt_idx\")"
      ],
      "execution_count": null,
      "outputs": []
    },
    {
      "cell_type": "code",
      "metadata": {
        "id": "X1192t-Ovjo3"
      },
      "source": [
        "from pyspark.ml.regression import LinearRegression"
      ],
      "execution_count": 31,
      "outputs": []
    },
    {
      "cell_type": "code",
      "metadata": {
        "id": "PD9y4oPJ12zi"
      },
      "source": [
        "from pyspark.ml.feature import StandardScaler\n",
        "\n",
        "sc = StandardScaler(withMean=True, withStd=True, inputCol='features', outputCol='sc_l_features')"
      ],
      "execution_count": 30,
      "outputs": []
    },
    {
      "cell_type": "code",
      "metadata": {
        "id": "jvT1EHx2Afmr"
      },
      "source": [
        "scl = sc.fit(trainingData)"
      ],
      "execution_count": 32,
      "outputs": []
    },
    {
      "cell_type": "code",
      "metadata": {
        "id": "Ku19oAVv3ZqO"
      },
      "source": [
        "sc_trainingData = scl.transform(trainingData)\n",
        "sc_testData = scl.transform(testData)"
      ],
      "execution_count": 33,
      "outputs": []
    },
    {
      "cell_type": "code",
      "metadata": {
        "id": "f66wT3mMvrbl"
      },
      "source": [
        "lr = LinearRegression(maxIter=100, \n",
        "                      regParam=0.1, \n",
        "                      elasticNetParam=0.6, \n",
        "                      featuresCol='sc_l_features', \n",
        "                      labelCol='fare_amount')\n",
        "\n",
        "lrModel = lr.fit(sc_trainingData)\n",
        "\n",
        "lr_predictions = lrModel.transform(sc_testData)"
      ],
      "execution_count": 35,
      "outputs": []
    },
    {
      "cell_type": "code",
      "metadata": {
        "colab": {
          "base_uri": "https://localhost:8080/"
        },
        "id": "g6jeG-37w1vk",
        "outputId": "ffc57c1d-4548-42db-8bf9-d488bf2c9705"
      },
      "source": [
        "evaluator_lr = RegressionEvaluator(\n",
        "    labelCol='fare_amount',  predictionCol=\"prediction\", metricName=\"rmse\")\n",
        "\n",
        "rmse_lr = evaluator_lr.evaluate(lr_predictions)\n",
        "print(\"linear model. RMSE на валидационке = %g\" % rmse_lr)"
      ],
      "execution_count": 36,
      "outputs": [
        {
          "output_type": "stream",
          "name": "stdout",
          "text": [
            "linear model. RMSE на валидационке = 4.50188\n"
          ]
        }
      ]
    },
    {
      "cell_type": "code",
      "metadata": {
        "id": "TFmWbYAqEpb6"
      },
      "source": [
        "model_gbt_more.save(\"/content/drive/MyDrive/@/models/model_lr_idx\")"
      ],
      "execution_count": null,
      "outputs": []
    },
    {
      "cell_type": "code",
      "metadata": {
        "id": "LHiqaAlwahOr"
      },
      "source": [
        "sub = dd.read_csv('/content/drive/MyDrive/@/test_with_all.csv')"
      ],
      "execution_count": 6,
      "outputs": []
    },
    {
      "cell_type": "code",
      "metadata": {
        "id": "HxerE1_krfU4"
      },
      "source": [
        "sub.to_parquet('/content/drive/MyDrive/@/sub.parquet')"
      ],
      "execution_count": 7,
      "outputs": []
    },
    {
      "cell_type": "code",
      "metadata": {
        "id": "C2tVJqZPsqEZ"
      },
      "source": [
        "sub_spark = spark.read.parquet('/content/drive/MyDrive/@/sub.parquet')"
      ],
      "execution_count": 8,
      "outputs": []
    },
    {
      "cell_type": "code",
      "metadata": {
        "colab": {
          "base_uri": "https://localhost:8080/"
        },
        "id": "IkpaQbtCsymi",
        "outputId": "4c097b6e-abc5-412e-e1b0-bef24ed2e635"
      },
      "source": [
        "sub_spark.show()"
      ],
      "execution_count": 9,
      "outputs": [
        {
          "output_type": "stream",
          "name": "stdout",
          "text": [
            "+--------------------+--------------------+------------------+------------------+------------------+------------------+---------------+--------+-------------------+--------------------+---------+----+--------------+---------------+----+-----+----+--------------+-----+\n",
            "|                 key|     pickup_datetime|  pickup_longitude|   pickup_latitude| dropoff_longitude|  dropoff_latitude|passenger_count|distance|            bearing|         cos_bearing|dayofweek|hour|peak_surcharge|night_surcharge|year|month|date|after_oct_2012|index|\n",
            "+--------------------+--------------------+------------------+------------------+------------------+------------------+---------------+--------+-------------------+--------------------+---------+----+--------------+---------------+----+-----+----+--------------+-----+\n",
            "|2015-01-27 13:08:...|2015-01-27 13:08:...|-73.97332000732422|  40.7638053894043|-73.98143005371094| 40.74383544921875|              1|    2323|-162.83515587516212|    0.86398659208832|        3|  13|             0|              0|2015|    1|  27|             1|    0|\n",
            "|2015-01-27 13:08:...|2015-01-27 13:08:...|-73.98686218261719|40.719383239746094|-73.99888610839844|40.739200592041016|              1|    2425|-24.772494584409056|  0.9358099087769692|        3|  13|             0|              0|2015|    1|  27|             1|    1|\n",
            "|2011-10-08 11:53:...|2011-10-08 11:53:...|        -73.982524|          40.75126|-73.97965400000002|         40.746139|              1|     619| 156.91447228317858|  0.9863919971897074|        7|  11|             0|              0|2011|   10|   8|             0|    2|\n",
            "|2012-12-01 21:12:...|2012-12-01 21:12:...|         -73.98116|         40.767807|        -73.990448|         40.751635|              1|    1961|  -156.405700549104|  0.7813738147244674|        7|  21|             0|              1|2012|   12|   1|             1|    3|\n",
            "|2012-12-01 21:12:...|2012-12-01 21:12:...|-73.96604599999998|         40.789775|-73.98856500000002|         40.744427|              1|    5387|-159.30860338256656| -0.6116736024908165|        7|  21|             0|              1|2012|   12|   1|             1|    4|\n",
            "|2012-12-01 21:12:...|2012-12-01 21:12:...|        -73.960983|         40.765547|        -73.979177|         40.740053|              1|    3223| -151.5049133077517|  0.7593609383375436|        7|  21|             0|              1|2012|   12|   1|             1|    5|\n",
            "|2011-10-06 12:10:...|2011-10-06 12:10:...|        -73.949013|         40.773204|        -73.959622|         40.770893|              1|     930| -105.9852766012523|  0.6757065223248945|        5|  12|             0|              0|2011|   10|   6|             0|    6|\n",
            "|2011-10-06 12:10:...|2011-10-06 12:10:...|        -73.777282|         40.646636|-73.98508299999997|         40.759368|              1|   21540|-54.449359127080434| -0.5042491934389122|        5|  12|             0|              0|2011|   10|   6|             0|    7|\n",
            "|2011-10-06 12:10:...|2011-10-06 12:10:...|        -74.014099|         40.709638|        -73.995106|         40.741365|              1|    3874| 24.479773940423087|  0.7942845339694135|        5|  12|             0|              0|2011|   10|   6|             0|    8|\n",
            "|2014-02-18 15:22:...|2014-02-18 15:22:...|-73.96958199999997|         40.765519|-73.98068599999998|         40.770725|              1|    1100| -58.33579349395136|-0.21464603429276355|        3|  15|             0|              0|2014|    2|  18|             1|    9|\n",
            "|2014-02-18 15:22:...|2014-02-18 15:22:...|        -73.989374|         40.741973|          -73.9993|         40.722534|              1|    2318| -158.7690631622647| -0.1183560743090302|        3|  15|             0|              0|2014|    2|  18|             1|   10|\n",
            "|2014-02-18 15:22:...|2014-02-18 15:22:...|        -74.001614|         40.740893|        -73.956387|         40.767437|              1|    4819| 52.324611293911275| -0.4691539530588175|        3|  15|             0|              0|2014|    2|  18|             1|   11|\n",
            "|2010-03-29 20:20:...|2010-03-29 20:20:...|        -73.991198|         40.739937|        -73.997166|         40.735269|              1|     723|-135.79770072541316| -0.7588722760953349|        2|  20|             0|              1|2010|    3|  29|             0|   12|\n",
            "|2010-03-29 20:20:...|2010-03-29 20:20:...|        -73.982034|         40.762723|        -74.001867|         40.761545|              1|    1676| -94.46017518115008|  0.9775287278520516|        2|  20|             0|              1|2010|    3|  29|             0|   13|\n",
            "|2011-10-06 03:59:...|2011-10-06 03:59:...|        -73.992455|         40.728701|        -73.983397|         40.750149|              1|    2504| 17.805445417685913|  0.5026710747126564|        5|   3|             0|              1|2011|   10|   6|             0|   14|\n",
            "|2011-10-06 03:59:...|2011-10-06 03:59:...|        -73.983583|         40.746993|        -73.951178| 40.78590300000001|              1|    5115|  32.33129480111013|  0.6094986608601352|        5|   3|             0|              1|2011|   10|   6|             0|   15|\n",
            "|2012-07-15 16:45:...|2012-07-15 16:45:...|-74.00674599999998|         40.731721|        -74.010204|         40.732318|              1|     299| -77.21206371559357| -0.2406579847715388|        1|  16|             0|              0|2012|    7|  15|             0|   16|\n",
            "|2012-07-15 16:45:...|2012-07-15 16:45:...|        -73.976446|         40.785598|         -73.95222| 40.77212100000001|              1|    2531| 126.18955341390699|  0.8648989681795464|        1|  16|             0|              0|2012|    7|  15|             0|   17|\n",
            "|2012-07-15 16:45:...|2012-07-15 16:45:...|        -73.973548|         40.763349|        -73.972096|         40.756417|              1|     780|  170.9499238329467| 0.26371911495343475|        1|  16|             0|              0|2012|    7|  15|             0|   18|\n",
            "|2012-07-15 16:45:...|2012-07-15 16:45:...|-73.97091800000003|         40.756025|        -73.975954|         40.755563|              1|     427| -96.87737964816372| -0.8717700272839679|        1|  16|             0|              0|2012|    7|  15|             0|   19|\n",
            "+--------------------+--------------------+------------------+------------------+------------------+------------------+---------------+--------+-------------------+--------------------+---------+----+--------------+---------------+----+-----+----+--------------+-----+\n",
            "only showing top 20 rows\n",
            "\n"
          ]
        }
      ]
    },
    {
      "cell_type": "code",
      "metadata": {
        "id": "LVhz2nYktQ1C"
      },
      "source": [
        "subData = vectorAssembler.setHandleInvalid(\"skip\").transform(sub_spark)\n",
        "subData = vectorIndexer.setHandleInvalid(\"skip\").fit(subData).transform(subData)\n"
      ],
      "execution_count": 37,
      "outputs": []
    },
    {
      "cell_type": "code",
      "metadata": {
        "id": "pUcKiPgH1e2_"
      },
      "source": [
        "sc_subData = scl.transform(subData)"
      ],
      "execution_count": 38,
      "outputs": []
    },
    {
      "cell_type": "code",
      "metadata": {
        "colab": {
          "base_uri": "https://localhost:8080/"
        },
        "id": "tjPFjtaD3kCM",
        "outputId": "e93e01d5-37be-4a1d-bd3b-acc947a7a91c"
      },
      "source": [
        "sc_subData.show()"
      ],
      "execution_count": 77,
      "outputs": [
        {
          "output_type": "stream",
          "name": "stdout",
          "text": [
            "+--------------------+--------------------+------------------+------------------+------------------+------------------+---------------+--------+-------------------+--------------------+---------+----+--------------+---------------+----+-----+----+--------------+-----+--------------------+--------------------+--------------------+\n",
            "|                 key|     pickup_datetime|  pickup_longitude|   pickup_latitude| dropoff_longitude|  dropoff_latitude|passenger_count|distance|            bearing|         cos_bearing|dayofweek|hour|peak_surcharge|night_surcharge|year|month|date|after_oct_2012|index|         rawFeatures|            features|       sc_l_features|\n",
            "+--------------------+--------------------+------------------+------------------+------------------+------------------+---------------+--------+-------------------+--------------------+---------+----+--------------+---------------+----+-----+----+--------------+-----+--------------------+--------------------+--------------------+\n",
            "|2015-01-27 13:08:...|2015-01-27 13:08:...|-73.97332000732422|  40.7638053894043|-73.98143005371094| 40.74383544921875|              1|    2323|-162.83515587516212|    0.86398659208832|        3|  13|             0|              0|2015|    1|  27|             1|    0|[-73.973320007324...|[-73.973320007324...|[0.03278202125695...|\n",
            "|2015-01-27 13:08:...|2015-01-27 13:08:...|-73.98686218261719|40.719383239746094|-73.99888610839844|40.739200592041016|              1|    2425|-24.772494584409056|  0.9358099087769692|        3|  13|             0|              0|2015|    1|  27|             1|    1|[-73.986862182617...|[-73.986862182617...|[-0.2838166263233...|\n",
            "|2011-10-08 11:53:...|2011-10-08 11:53:...|        -73.982524|          40.75126|-73.97965400000002|         40.746139|              1|     619| 156.91447228317858|  0.9863919971897074|        7|  11|             0|              0|2011|   10|   8|             0|    2|[-73.982524,40.75...|[-73.982524,40.75...|[-0.1823954942049...|\n",
            "|2012-12-01 21:12:...|2012-12-01 21:12:...|         -73.98116|         40.767807|        -73.990448|         40.751635|              1|    1961|  -156.405700549104|  0.7813738147244674|        7|  21|             0|              1|2012|   12|   1|             1|    3|[-73.98116,40.767...|[-73.98116,40.767...|[-0.1505069278590...|\n",
            "|2012-12-01 21:12:...|2012-12-01 21:12:...|-73.96604599999998|         40.789775|-73.98856500000002|         40.744427|              1|    5387|-159.30860338256656| -0.6116736024908165|        7|  21|             0|              1|2012|   12|   1|             1|    4|[-73.966045999999...|[-73.966045999999...|[0.20283896052430...|\n",
            "|2012-12-01 21:12:...|2012-12-01 21:12:...|        -73.960983|         40.765547|        -73.979177|         40.740053|              1|    3223| -151.5049133077517|  0.7593609383375436|        7|  21|             0|              1|2012|   12|   1|             1|    5|[-73.960983,40.76...|[-73.960983,40.76...|[0.32120539117630...|\n",
            "|2011-10-06 12:10:...|2011-10-06 12:10:...|        -73.949013|         40.773204|        -73.959622|         40.770893|              1|     930| -105.9852766012523|  0.6757065223248945|        5|  12|             0|              0|2011|   10|   6|             0|    6|[-73.949013,40.77...|[-73.949013,40.77...|[0.60104860170584...|\n",
            "|2011-10-06 12:10:...|2011-10-06 12:10:...|        -73.777282|         40.646636|-73.98508299999997|         40.759368|              1|   21540|-54.449359127080434| -0.5042491934389122|        5|  12|             0|              0|2011|   10|   6|             0|    7|[-73.777282,40.64...|[-73.777282,40.64...|[4.61589859230115...|\n",
            "|2011-10-06 12:10:...|2011-10-06 12:10:...|        -74.014099|         40.709638|        -73.995106|         40.741365|              1|    3874| 24.479773940423087|  0.7942845339694135|        5|  12|             0|              0|2011|   10|   6|             0|    8|[-74.014099,40.70...|[-74.014099,40.70...|[-0.9205783991730...|\n",
            "|2014-02-18 15:22:...|2014-02-18 15:22:...|-73.96958199999997|         40.765519|-73.98068599999998|         40.770725|              1|    1100| -58.33579349395136|-0.21464603429276355|        3|  15|             0|              0|2014|    2|  18|             1|    9|[-73.969581999999...|[-73.969581999999...|[0.12017182665370...|\n",
            "|2014-02-18 15:22:...|2014-02-18 15:22:...|        -73.989374|         40.741973|          -73.9993|         40.722534|              1|    2318| -158.7690631622647| -0.1183560743090302|        3|  15|             0|              0|2014|    2|  18|             1|   10|[-73.989374,40.74...|[-73.989374,40.74...|[-0.3425396873650...|\n",
            "|2014-02-18 15:22:...|2014-02-18 15:22:...|        -74.001614|         40.740893|        -73.956387|         40.767437|              1|    4819| 52.324611293911275| -0.4691539530588175|        3|  15|             0|              0|2014|    2|  18|             1|   11|[-74.001614,40.74...|[-74.001614,40.74...|[-0.6286951507637...|\n",
            "|2010-03-29 20:20:...|2010-03-29 20:20:...|        -73.991198|         40.739937|        -73.997166|         40.735269|              1|     723|-135.79770072541316| -0.7588722760953349|        2|  20|             0|              1|2010|    3|  29|             0|   12|[-73.991198,40.73...|[-73.991198,40.73...|[-0.3851824623028...|\n",
            "|2010-03-29 20:20:...|2010-03-29 20:20:...|        -73.982034|         40.762723|        -74.001867|         40.761545|              1|    1676| -94.46017518115008|  0.9775287278520516|        2|  20|             0|              1|2010|    3|  29|             0|   13|[-73.982034,40.76...|[-73.982034,40.76...|[-0.1709399241833...|\n",
            "|2011-10-06 03:59:...|2011-10-06 03:59:...|        -73.992455|         40.728701|        -73.983397|         40.750149|              1|    2504| 17.805445417685913|  0.5026710747126564|        5|   3|             0|              1|2011|   10|   6|             0|   14|[-73.992455,40.72...|[-73.992455,40.72...|[-0.4145695062158...|\n",
            "|2011-10-06 03:59:...|2011-10-06 03:59:...|        -73.983583|         40.746993|        -73.951178| 40.78590300000001|              1|    5115|  32.33129480111013|  0.6094986608601352|        5|   3|             0|              1|2011|   10|   6|             0|   15|[-73.983583,40.74...|[-73.983583,40.74...|[-0.2071535526803...|\n",
            "|2012-07-15 16:45:...|2012-07-15 16:45:...|-74.00674599999998|         40.731721|        -74.010204|         40.732318|              1|     299| -77.21206371559357| -0.2406579847715388|        1|  16|             0|              0|2012|    7|  15|             0|   16|[-74.006745999999...|[-74.006745999999...|[-0.7486747127043...|\n",
            "|2012-07-15 16:45:...|2012-07-15 16:45:...|        -73.976446|         40.785598|         -73.95222| 40.77212100000001|              1|    2531| 126.18955341390699|  0.8648989681795464|        1|  16|             0|              0|2012|    7|  15|             0|   17|[-73.976446,40.78...|[-73.976446,40.78...|[-0.0402996685075...|\n",
            "|2012-07-15 16:45:...|2012-07-15 16:45:...|        -73.973548|         40.763349|        -73.972096|         40.756417|              1|     780|  170.9499238329467| 0.26371911495343475|        1|  16|             0|              0|2012|    7|  15|             0|   18|[-73.973548,40.76...|[-73.973548,40.76...|[0.02745184562068...|\n",
            "|2012-07-15 16:45:...|2012-07-15 16:45:...|-73.97091800000003|         40.756025|        -73.975954|         40.755563|              1|     427| -96.87737964816372| -0.8717700272839679|        1|  16|             0|              0|2012|    7|  15|             0|   19|[-73.970918000000...|[-73.970918000000...|[0.08893786430769...|\n",
            "+--------------------+--------------------+------------------+------------------+------------------+------------------+---------------+--------+-------------------+--------------------+---------+----+--------------+---------------+----+-----+----+--------------+-----+--------------------+--------------------+--------------------+\n",
            "only showing top 20 rows\n",
            "\n"
          ]
        }
      ]
    },
    {
      "cell_type": "markdown",
      "metadata": {
        "id": "w97zYo7EuAbh"
      },
      "source": [
        "https://ranjithmenon.medium.com/gradient-boosted-tree-regression-spark-dd5ac316a252"
      ]
    },
    {
      "cell_type": "code",
      "metadata": {
        "id": "FBkPUMdQxWiG"
      },
      "source": [
        "from pyspark.ml.regression import GBTRegressionModel"
      ],
      "execution_count": 18,
      "outputs": []
    },
    {
      "cell_type": "code",
      "metadata": {
        "id": "by8htLiXo4lS"
      },
      "source": [
        "model_gbt = GBTRegressionModel.load(\"/content/drive/MyDrive/@/models/model_gbt_more\")"
      ],
      "execution_count": 19,
      "outputs": []
    },
    {
      "cell_type": "code",
      "metadata": {
        "id": "UFYX24mpxoWL"
      },
      "source": [
        "predictions_gbt = model_gbt.transform(subData)"
      ],
      "execution_count": 56,
      "outputs": []
    },
    {
      "cell_type": "code",
      "metadata": {
        "colab": {
          "base_uri": "https://localhost:8080/"
        },
        "id": "5LpBPIqbxxbJ",
        "outputId": "ef3e9e93-dc74-4cc4-944e-96e57e9d42f3"
      },
      "source": [
        "predictions_gbt.show()"
      ],
      "execution_count": 57,
      "outputs": [
        {
          "output_type": "stream",
          "name": "stdout",
          "text": [
            "+--------------------+--------------------+------------------+------------------+------------------+------------------+---------------+--------+-------------------+--------------------+---------+----+--------------+---------------+----+-----+----+--------------+-----+--------------------+--------------------+------------------+\n",
            "|                 key|     pickup_datetime|  pickup_longitude|   pickup_latitude| dropoff_longitude|  dropoff_latitude|passenger_count|distance|            bearing|         cos_bearing|dayofweek|hour|peak_surcharge|night_surcharge|year|month|date|after_oct_2012|index|         rawFeatures|            features|        prediction|\n",
            "+--------------------+--------------------+------------------+------------------+------------------+------------------+---------------+--------+-------------------+--------------------+---------+----+--------------+---------------+----+-----+----+--------------+-----+--------------------+--------------------+------------------+\n",
            "|2015-01-27 13:08:...|2015-01-27 13:08:...|-73.97332000732422|  40.7638053894043|-73.98143005371094| 40.74383544921875|              1|    2323|-162.83515587516212|    0.86398659208832|        3|  13|             0|              0|2015|    1|  27|             1|    0|[-73.973320007324...|[-73.973320007324...| 9.448028459147524|\n",
            "|2015-01-27 13:08:...|2015-01-27 13:08:...|-73.98686218261719|40.719383239746094|-73.99888610839844|40.739200592041016|              1|    2425|-24.772494584409056|  0.9358099087769692|        3|  13|             0|              0|2015|    1|  27|             1|    1|[-73.986862182617...|[-73.986862182617...| 11.96343910485117|\n",
            "|2011-10-08 11:53:...|2011-10-08 11:53:...|        -73.982524|          40.75126|-73.97965400000002|         40.746139|              1|     619| 156.91447228317858|  0.9863919971897074|        7|  11|             0|              0|2011|   10|   8|             0|    2|[-73.982524,40.75...|[-73.982524,40.75...| 4.926638375199629|\n",
            "|2012-12-01 21:12:...|2012-12-01 21:12:...|         -73.98116|         40.767807|        -73.990448|         40.751635|              1|    1961|  -156.405700549104|  0.7813738147244674|        7|  21|             0|              1|2012|   12|   1|             1|    3|[-73.98116,40.767...|[-73.98116,40.767...| 8.439456389311168|\n",
            "|2012-12-01 21:12:...|2012-12-01 21:12:...|-73.96604599999998|         40.789775|-73.98856500000002|         40.744427|              1|    5387|-159.30860338256656| -0.6116736024908165|        7|  21|             0|              1|2012|   12|   1|             1|    4|[-73.966045999999...|[-73.966045999999...| 16.62482164367756|\n",
            "|2012-12-01 21:12:...|2012-12-01 21:12:...|        -73.960983|         40.765547|        -73.979177|         40.740053|              1|    3223| -151.5049133077517|  0.7593609383375436|        7|  21|             0|              1|2012|   12|   1|             1|    5|[-73.960983,40.76...|[-73.960983,40.76...|12.083140213171493|\n",
            "|2011-10-06 12:10:...|2011-10-06 12:10:...|        -73.949013|         40.773204|        -73.959622|         40.770893|              1|     930| -105.9852766012523|  0.6757065223248945|        5|  12|             0|              0|2011|   10|   6|             0|    6|[-73.949013,40.77...|[-73.949013,40.77...| 5.326668050906795|\n",
            "|2011-10-06 12:10:...|2011-10-06 12:10:...|        -73.777282|         40.646636|-73.98508299999997|         40.759368|              1|   21540|-54.449359127080434| -0.5042491934389122|        5|  12|             0|              0|2011|   10|   6|             0|    7|[-73.777282,40.64...|[-73.777282,40.64...| 44.77267147793202|\n",
            "|2011-10-06 12:10:...|2011-10-06 12:10:...|        -74.014099|         40.709638|        -73.995106|         40.741365|              1|    3874| 24.479773940423087|  0.7942845339694135|        5|  12|             0|              0|2011|   10|   6|             0|    8|[-74.014099,40.70...|[-74.014099,40.70...|10.811690318764454|\n",
            "|2014-02-18 15:22:...|2014-02-18 15:22:...|-73.96958199999997|         40.765519|-73.98068599999998|         40.770725|              1|    1100| -58.33579349395136|-0.21464603429276355|        3|  15|             0|              0|2014|    2|  18|             1|    9|[-73.969581999999...|[-73.969581999999...| 6.856932265466979|\n",
            "|2014-02-18 15:22:...|2014-02-18 15:22:...|        -73.989374|         40.741973|          -73.9993|         40.722534|              1|    2318| -158.7690631622647| -0.1183560743090302|        3|  15|             0|              0|2014|    2|  18|             1|   10|[-73.989374,40.74...|[-73.989374,40.74...| 9.595173808984727|\n",
            "|2014-02-18 15:22:...|2014-02-18 15:22:...|        -74.001614|         40.740893|        -73.956387|         40.767437|              1|    4819| 52.324611293911275| -0.4691539530588175|        3|  15|             0|              0|2014|    2|  18|             1|   11|[-74.001614,40.74...|[-74.001614,40.74...| 16.36491350931287|\n",
            "|2010-03-29 20:20:...|2010-03-29 20:20:...|        -73.991198|         40.739937|        -73.997166|         40.735269|              1|     723|-135.79770072541316| -0.7588722760953349|        2|  20|             0|              1|2010|    3|  29|             0|   12|[-73.991198,40.73...|[-73.991198,40.73...|5.1651311779145095|\n",
            "|2010-03-29 20:20:...|2010-03-29 20:20:...|        -73.982034|         40.762723|        -74.001867|         40.761545|              1|    1676| -94.46017518115008|  0.9775287278520516|        2|  20|             0|              1|2010|    3|  29|             0|   13|[-73.982034,40.76...|[-73.982034,40.76...| 6.733620107380259|\n",
            "|2011-10-06 03:59:...|2011-10-06 03:59:...|        -73.992455|         40.728701|        -73.983397|         40.750149|              1|    2504| 17.805445417685913|  0.5026710747126564|        5|   3|             0|              1|2011|   10|   6|             0|   14|[-73.992455,40.72...|[-73.992455,40.72...|7.4118533258578525|\n",
            "|2011-10-06 03:59:...|2011-10-06 03:59:...|        -73.983583|         40.746993|        -73.951178| 40.78590300000001|              1|    5115|  32.33129480111013|  0.6094986608601352|        5|   3|             0|              1|2011|   10|   6|             0|   15|[-73.983583,40.74...|[-73.983583,40.74...|11.422671414114163|\n",
            "|2012-07-15 16:45:...|2012-07-15 16:45:...|-74.00674599999998|         40.731721|        -74.010204|         40.732318|              1|     299| -77.21206371559357| -0.2406579847715388|        1|  16|             0|              0|2012|    7|  15|             0|   16|[-74.006745999999...|[-74.006745999999...| 9.347954421280049|\n",
            "|2012-07-15 16:45:...|2012-07-15 16:45:...|        -73.976446|         40.785598|         -73.95222| 40.77212100000001|              1|    2531| 126.18955341390699|  0.8648989681795464|        1|  16|             0|              0|2012|    7|  15|             0|   17|[-73.976446,40.78...|[-73.976446,40.78...|  9.38204677337325|\n",
            "|2012-07-15 16:45:...|2012-07-15 16:45:...|        -73.973548|         40.763349|        -73.972096|         40.756417|              1|     780|  170.9499238329467| 0.26371911495343475|        1|  16|             0|              0|2012|    7|  15|             0|   18|[-73.973548,40.76...|[-73.973548,40.76...| 5.014645456838639|\n",
            "|2012-07-15 16:45:...|2012-07-15 16:45:...|-73.97091800000003|         40.756025|        -73.975954|         40.755563|              1|     427| -96.87737964816372| -0.8717700272839679|        1|  16|             0|              0|2012|    7|  15|             0|   19|[-73.970918000000...|[-73.970918000000...| 6.220275703933608|\n",
            "+--------------------+--------------------+------------------+------------------+------------------+------------------+---------------+--------+-------------------+--------------------+---------+----+--------------+---------------+----+-----+----+--------------+-----+--------------------+--------------------+------------------+\n",
            "only showing top 20 rows\n",
            "\n"
          ]
        }
      ]
    },
    {
      "cell_type": "code",
      "metadata": {
        "id": "ncxUw3DDyIDw"
      },
      "source": [
        "ds5_k8_spark_gbt = predictions_gbt.select('key', \n",
        "                                          'prediction').withColumnRenamed('prediction', \n",
        "                                                                          'fare_amount')"
      ],
      "execution_count": 59,
      "outputs": []
    },
    {
      "cell_type": "code",
      "metadata": {
        "id": "X5FVP4Jnzumr"
      },
      "source": [
        "ds5_k8_spark_gbt.toPandas().to_csv('ds5_k8_spark_gbt_sub', index=False)"
      ],
      "execution_count": 61,
      "outputs": []
    },
    {
      "cell_type": "code",
      "metadata": {
        "id": "t133uvREu5Tj"
      },
      "source": [
        "# from pyspark.ml.regression import LinearRegressionModel\n",
        "\n",
        "# lrModel_new = LinearRegressionModel.load('/content/drive/MyDrive/@/models/model_lr_idx')\n",
        "\n",
        "lr_predictions_sub = lrModel.transform(sc_subData)"
      ],
      "execution_count": 39,
      "outputs": []
    },
    {
      "cell_type": "code",
      "metadata": {
        "id": "EZoPPgK12GXk"
      },
      "source": [
        "ds5_k8_spark_lr = lr_predictions_sub.select('key', \n",
        "                                          'prediction').withColumnRenamed('prediction', \n",
        "                                                                          'fare_amount')"
      ],
      "execution_count": 40,
      "outputs": []
    },
    {
      "cell_type": "code",
      "metadata": {
        "colab": {
          "base_uri": "https://localhost:8080/"
        },
        "id": "4Pr_n3eO2n6s",
        "outputId": "1d6e584e-0376-4af2-d5df-7b2b2dba2d65"
      },
      "source": [
        "ds5_k8_spark_lr.show()"
      ],
      "execution_count": 41,
      "outputs": [
        {
          "output_type": "stream",
          "name": "stdout",
          "text": [
            "+--------------------+------------------+\n",
            "|                 key|       fare_amount|\n",
            "+--------------------+------------------+\n",
            "|2015-01-27 13:08:...|10.162962746041504|\n",
            "|2015-01-27 13:08:...|10.722918879172997|\n",
            "|2011-10-08 11:53:...| 5.653036535413829|\n",
            "|2012-12-01 21:12:...| 8.389241730462253|\n",
            "|2012-12-01 21:12:...|16.382486352334144|\n",
            "|2012-12-01 21:12:...|11.710793589517545|\n",
            "|2011-10-06 12:10:...| 5.438776259176566|\n",
            "|2011-10-06 12:10:...| 54.26724148444329|\n",
            "|2011-10-06 12:10:...|11.631605250957335|\n",
            "|2014-02-18 15:22:...| 7.518475715451752|\n",
            "|2014-02-18 15:22:...|10.167730159583634|\n",
            "|2014-02-18 15:22:...|15.418792305904265|\n",
            "|2010-03-29 20:20:...|3.6445513453359712|\n",
            "|2010-03-29 20:20:...| 5.762471583576527|\n",
            "|2011-10-06 03:59:...|  7.97497853924968|\n",
            "|2011-10-06 03:59:...|13.298785532300277|\n",
            "|2012-07-15 16:45:...|3.7397219924871408|\n",
            "|2012-07-15 16:45:...| 9.378188303718783|\n",
            "|2012-07-15 16:45:...| 6.041414557790479|\n",
            "|2012-07-15 16:45:...| 4.191687956765462|\n",
            "+--------------------+------------------+\n",
            "only showing top 20 rows\n",
            "\n"
          ]
        }
      ]
    },
    {
      "cell_type": "code",
      "metadata": {
        "id": "2DsGr4ePHQl5"
      },
      "source": [
        "ds5_k8_spark_lr.toPandas().to_csv('ds5_k8_spark_lr_sub', index=False)"
      ],
      "execution_count": 42,
      "outputs": []
    },
    {
      "cell_type": "markdown",
      "metadata": {
        "id": "g2riHiX2tGgP"
      },
      "source": [
        "https://stackoverflow.com/questions/48826386/hyperparameter-tuning-using-pyspark"
      ]
    },
    {
      "cell_type": "markdown",
      "metadata": {
        "id": "tjoturniXNU2"
      },
      "source": [
        "# увы, не получилось. граф надо переделывать чтоб id точек были int. иначе непростительно долго"
      ]
    },
    {
      "cell_type": "code",
      "metadata": {
        "id": "4lS7OIH8ScVA"
      },
      "source": [
        "! pip install -q taxicab\n",
        "\n",
        "import taxicab as tc\n",
        "\n",
        "from osmnx import graph_from_bbox\n",
        "xmin, xmax = -74.46, -73.5\n",
        "ymin, ymax =  40.3, 41.12\n",
        "G = graph_from_bbox(ymax, ymin, xmin, xmax, network_type='drive', simplify=True)\n",
        "\n",
        "from osmnx import save_graphml\n",
        "save_graphml(G, 'ds5_k8_graph.graphml')\n",
        "\n",
        "from osmnx import load_graphml\n",
        "G1 = load_graphml('ds5_k8_graph.graphml')"
      ],
      "execution_count": null,
      "outputs": []
    },
    {
      "cell_type": "code",
      "metadata": {
        "id": "zGKJ0OoAScX4"
      },
      "source": [
        "@F.udf(DoubleType())\n",
        "def get_track(lat1, lat2, long1, long2):\n",
        "    orig = (lat1, long1)\n",
        "    dest = (lat2, long2)\n",
        "    return tc.distance.shortest_path(G1, orig, dest)"
      ],
      "execution_count": null,
      "outputs": []
    },
    {
      "cell_type": "code",
      "metadata": {
        "id": "3_XU8VuxLYVk"
      },
      "source": [
        "train = train.withColumn(\"track\", get_track(train['pickup_latitude'], \n",
        "                                            train['dropoff_latitude'], \n",
        "                                            train['pickup_longitude'], \n",
        "                                            train['dropoff_longitude']))"
      ],
      "execution_count": null,
      "outputs": []
    }
  ]
}